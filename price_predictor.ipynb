{
 "cells": [
  {
   "cell_type": "code",
   "execution_count": 64,
   "id": "ce1a2c2f",
   "metadata": {},
   "outputs": [],
   "source": [
    "import pandas as pd\n",
    "import numpy as np\n",
    "from matplotlib import pyplot as plt\n",
    "%matplotlib inline\n",
    "import matplotlib\n",
    "import math\n",
    "matplotlib.rcParams[\"figure.figsize\"] = (20,10)"
   ]
  },
  {
   "cell_type": "code",
   "execution_count": 3,
   "id": "021a857a",
   "metadata": {},
   "outputs": [
    {
     "data": {
      "text/html": [
       "<div>\n",
       "<style scoped>\n",
       "    .dataframe tbody tr th:only-of-type {\n",
       "        vertical-align: middle;\n",
       "    }\n",
       "\n",
       "    .dataframe tbody tr th {\n",
       "        vertical-align: top;\n",
       "    }\n",
       "\n",
       "    .dataframe thead th {\n",
       "        text-align: right;\n",
       "    }\n",
       "</style>\n",
       "<table border=\"1\" class=\"dataframe\">\n",
       "  <thead>\n",
       "    <tr style=\"text-align: right;\">\n",
       "      <th></th>\n",
       "      <th>seller_type</th>\n",
       "      <th>bedroom</th>\n",
       "      <th>layout_type</th>\n",
       "      <th>property_type</th>\n",
       "      <th>locality</th>\n",
       "      <th>price</th>\n",
       "      <th>area</th>\n",
       "      <th>furnish_type</th>\n",
       "      <th>bathroom</th>\n",
       "      <th>city</th>\n",
       "    </tr>\n",
       "  </thead>\n",
       "  <tbody>\n",
       "    <tr>\n",
       "      <th>184441</th>\n",
       "      <td>OWNER</td>\n",
       "      <td>1.0</td>\n",
       "      <td>BHK</td>\n",
       "      <td>Apartment</td>\n",
       "      <td>Wakad</td>\n",
       "      <td>25000.0</td>\n",
       "      <td>960.0</td>\n",
       "      <td>Furnished</td>\n",
       "      <td>3.0</td>\n",
       "      <td>Pune</td>\n",
       "    </tr>\n",
       "    <tr>\n",
       "      <th>171125</th>\n",
       "      <td>AGENT</td>\n",
       "      <td>2.0</td>\n",
       "      <td>BHK</td>\n",
       "      <td>Apartment</td>\n",
       "      <td>Wagholi</td>\n",
       "      <td>12500.0</td>\n",
       "      <td>960.0</td>\n",
       "      <td>Unfurnished</td>\n",
       "      <td>2.0</td>\n",
       "      <td>Pune</td>\n",
       "    </tr>\n",
       "    <tr>\n",
       "      <th>130511</th>\n",
       "      <td>AGENT</td>\n",
       "      <td>2.0</td>\n",
       "      <td>BHK</td>\n",
       "      <td>Apartment</td>\n",
       "      <td>Andheri West</td>\n",
       "      <td>60000.0</td>\n",
       "      <td>1000.0</td>\n",
       "      <td>Furnished</td>\n",
       "      <td>2.0</td>\n",
       "      <td>Mumbai</td>\n",
       "    </tr>\n",
       "    <tr>\n",
       "      <th>159235</th>\n",
       "      <td>OWNER</td>\n",
       "      <td>1.0</td>\n",
       "      <td>BHK</td>\n",
       "      <td>Apartment</td>\n",
       "      <td>Borivali West</td>\n",
       "      <td>17000.0</td>\n",
       "      <td>600.0</td>\n",
       "      <td>Semi-Furnished</td>\n",
       "      <td>1.0</td>\n",
       "      <td>Mumbai</td>\n",
       "    </tr>\n",
       "    <tr>\n",
       "      <th>66703</th>\n",
       "      <td>AGENT</td>\n",
       "      <td>4.0</td>\n",
       "      <td>BHK</td>\n",
       "      <td>Independent Floor</td>\n",
       "      <td>New Friends Colony</td>\n",
       "      <td>120000.0</td>\n",
       "      <td>4500.0</td>\n",
       "      <td>Semi-Furnished</td>\n",
       "      <td>4.0</td>\n",
       "      <td>Delhi</td>\n",
       "    </tr>\n",
       "    <tr>\n",
       "      <th>5857</th>\n",
       "      <td>AGENT</td>\n",
       "      <td>2.0</td>\n",
       "      <td>BHK</td>\n",
       "      <td>Villa</td>\n",
       "      <td>Jodhpur</td>\n",
       "      <td>15500.0</td>\n",
       "      <td>1365.0</td>\n",
       "      <td>Semi-Furnished</td>\n",
       "      <td>3.0</td>\n",
       "      <td>Ahmedabad</td>\n",
       "    </tr>\n",
       "    <tr>\n",
       "      <th>106948</th>\n",
       "      <td>AGENT</td>\n",
       "      <td>1.0</td>\n",
       "      <td>BHK</td>\n",
       "      <td>Apartment</td>\n",
       "      <td>Jogeshwari East</td>\n",
       "      <td>28000.0</td>\n",
       "      <td>600.0</td>\n",
       "      <td>Furnished</td>\n",
       "      <td>2.0</td>\n",
       "      <td>Mumbai</td>\n",
       "    </tr>\n",
       "    <tr>\n",
       "      <th>192724</th>\n",
       "      <td>OWNER</td>\n",
       "      <td>3.0</td>\n",
       "      <td>BHK</td>\n",
       "      <td>Apartment</td>\n",
       "      <td>Kalyani Nagar</td>\n",
       "      <td>52300.0</td>\n",
       "      <td>1800.0</td>\n",
       "      <td>Furnished</td>\n",
       "      <td>2.0</td>\n",
       "      <td>Pune</td>\n",
       "    </tr>\n",
       "    <tr>\n",
       "      <th>28365</th>\n",
       "      <td>AGENT</td>\n",
       "      <td>1.0</td>\n",
       "      <td>BHK</td>\n",
       "      <td>Independent House</td>\n",
       "      <td>Electronics City</td>\n",
       "      <td>10000.0</td>\n",
       "      <td>580.0</td>\n",
       "      <td>Semi-Furnished</td>\n",
       "      <td>1.0</td>\n",
       "      <td>Bangalore</td>\n",
       "    </tr>\n",
       "    <tr>\n",
       "      <th>141950</th>\n",
       "      <td>AGENT</td>\n",
       "      <td>2.0</td>\n",
       "      <td>BHK</td>\n",
       "      <td>Apartment</td>\n",
       "      <td>Mira Road East</td>\n",
       "      <td>18500.0</td>\n",
       "      <td>1000.0</td>\n",
       "      <td>Semi-Furnished</td>\n",
       "      <td>2.0</td>\n",
       "      <td>Mumbai</td>\n",
       "    </tr>\n",
       "  </tbody>\n",
       "</table>\n",
       "</div>"
      ],
      "text/plain": [
       "       seller_type  bedroom layout_type      property_type  \\\n",
       "184441       OWNER      1.0         BHK          Apartment   \n",
       "171125       AGENT      2.0         BHK          Apartment   \n",
       "130511       AGENT      2.0         BHK          Apartment   \n",
       "159235       OWNER      1.0         BHK          Apartment   \n",
       "66703        AGENT      4.0         BHK  Independent Floor   \n",
       "5857         AGENT      2.0         BHK              Villa   \n",
       "106948       AGENT      1.0         BHK          Apartment   \n",
       "192724       OWNER      3.0         BHK          Apartment   \n",
       "28365        AGENT      1.0         BHK  Independent House   \n",
       "141950       AGENT      2.0         BHK          Apartment   \n",
       "\n",
       "                  locality     price    area    furnish_type  bathroom  \\\n",
       "184441               Wakad   25000.0   960.0       Furnished       3.0   \n",
       "171125             Wagholi   12500.0   960.0     Unfurnished       2.0   \n",
       "130511        Andheri West   60000.0  1000.0       Furnished       2.0   \n",
       "159235       Borivali West   17000.0   600.0  Semi-Furnished       1.0   \n",
       "66703   New Friends Colony  120000.0  4500.0  Semi-Furnished       4.0   \n",
       "5857               Jodhpur   15500.0  1365.0  Semi-Furnished       3.0   \n",
       "106948     Jogeshwari East   28000.0   600.0       Furnished       2.0   \n",
       "192724       Kalyani Nagar   52300.0  1800.0       Furnished       2.0   \n",
       "28365     Electronics City   10000.0   580.0  Semi-Furnished       1.0   \n",
       "141950      Mira Road East   18500.0  1000.0  Semi-Furnished       2.0   \n",
       "\n",
       "             city  \n",
       "184441       Pune  \n",
       "171125       Pune  \n",
       "130511     Mumbai  \n",
       "159235     Mumbai  \n",
       "66703       Delhi  \n",
       "5857    Ahmedabad  \n",
       "106948     Mumbai  \n",
       "192724       Pune  \n",
       "28365   Bangalore  \n",
       "141950     Mumbai  "
      ]
     },
     "execution_count": 3,
     "metadata": {},
     "output_type": "execute_result"
    }
   ],
   "source": [
    "df1 = pd.read_csv(\"All_Cities.csv\")\n",
    "df1.sample(n=10)"
   ]
  },
  {
   "cell_type": "code",
   "execution_count": 4,
   "id": "13b2bd67",
   "metadata": {},
   "outputs": [
    {
     "data": {
      "text/plain": [
       "(193011, 10)"
      ]
     },
     "execution_count": 4,
     "metadata": {},
     "output_type": "execute_result"
    }
   ],
   "source": [
    "df1.shape"
   ]
  },
  {
   "cell_type": "code",
   "execution_count": 5,
   "id": "24f1cf00",
   "metadata": {},
   "outputs": [
    {
     "data": {
      "text/plain": [
       "Index(['seller_type', 'bedroom', 'layout_type', 'property_type', 'locality',\n",
       "       'price', 'area', 'furnish_type', 'bathroom', 'city'],\n",
       "      dtype='object')"
      ]
     },
     "execution_count": 5,
     "metadata": {},
     "output_type": "execute_result"
    }
   ],
   "source": [
    "df1.columns"
   ]
  },
  {
   "cell_type": "code",
   "execution_count": 6,
   "id": "81b2f0a5",
   "metadata": {},
   "outputs": [
    {
     "data": {
      "text/plain": [
       "array(['Apartment', 'Studio Apartment', 'Independent House',\n",
       "       'Independent Floor', 'Villa', 'Penthouse'], dtype=object)"
      ]
     },
     "execution_count": 6,
     "metadata": {},
     "output_type": "execute_result"
    }
   ],
   "source": [
    "df1['property_type'].unique()"
   ]
  },
  {
   "cell_type": "code",
   "execution_count": 7,
   "id": "4b11ec29",
   "metadata": {},
   "outputs": [
    {
     "data": {
      "text/plain": [
       "Apartment            140356\n",
       "Independent Floor     27283\n",
       "Independent House     12838\n",
       "Studio Apartment       9263\n",
       "Villa                  3115\n",
       "Penthouse               156\n",
       "Name: property_type, dtype: int64"
      ]
     },
     "execution_count": 7,
     "metadata": {},
     "output_type": "execute_result"
    }
   ],
   "source": [
    "df1['property_type'].value_counts()"
   ]
  },
  {
   "cell_type": "code",
   "execution_count": 8,
   "id": "5c6e196e",
   "metadata": {},
   "outputs": [
    {
     "data": {
      "text/html": [
       "<div>\n",
       "<style scoped>\n",
       "    .dataframe tbody tr th:only-of-type {\n",
       "        vertical-align: middle;\n",
       "    }\n",
       "\n",
       "    .dataframe tbody tr th {\n",
       "        vertical-align: top;\n",
       "    }\n",
       "\n",
       "    .dataframe thead th {\n",
       "        text-align: right;\n",
       "    }\n",
       "</style>\n",
       "<table border=\"1\" class=\"dataframe\">\n",
       "  <thead>\n",
       "    <tr style=\"text-align: right;\">\n",
       "      <th></th>\n",
       "      <th>bedroom</th>\n",
       "      <th>locality</th>\n",
       "      <th>price</th>\n",
       "      <th>area</th>\n",
       "      <th>bathroom</th>\n",
       "      <th>city</th>\n",
       "    </tr>\n",
       "  </thead>\n",
       "  <tbody>\n",
       "    <tr>\n",
       "      <th>130980</th>\n",
       "      <td>2.0</td>\n",
       "      <td>Thane West</td>\n",
       "      <td>22000.0</td>\n",
       "      <td>850.0</td>\n",
       "      <td>2.0</td>\n",
       "      <td>Mumbai</td>\n",
       "    </tr>\n",
       "    <tr>\n",
       "      <th>91068</th>\n",
       "      <td>2.0</td>\n",
       "      <td>Chandanagar</td>\n",
       "      <td>24000.0</td>\n",
       "      <td>1295.0</td>\n",
       "      <td>2.0</td>\n",
       "      <td>Hyderabad</td>\n",
       "    </tr>\n",
       "    <tr>\n",
       "      <th>20033</th>\n",
       "      <td>2.0</td>\n",
       "      <td>Krishnarajapura</td>\n",
       "      <td>10375.0</td>\n",
       "      <td>800.0</td>\n",
       "      <td>1.0</td>\n",
       "      <td>Bangalore</td>\n",
       "    </tr>\n",
       "    <tr>\n",
       "      <th>21397</th>\n",
       "      <td>1.0</td>\n",
       "      <td>Marathahalli</td>\n",
       "      <td>9750.0</td>\n",
       "      <td>600.0</td>\n",
       "      <td>1.0</td>\n",
       "      <td>Bangalore</td>\n",
       "    </tr>\n",
       "    <tr>\n",
       "      <th>156254</th>\n",
       "      <td>3.0</td>\n",
       "      <td>Kharghar</td>\n",
       "      <td>30000.0</td>\n",
       "      <td>1800.0</td>\n",
       "      <td>3.0</td>\n",
       "      <td>Mumbai</td>\n",
       "    </tr>\n",
       "    <tr>\n",
       "      <th>92818</th>\n",
       "      <td>2.0</td>\n",
       "      <td>Mehdipatnam</td>\n",
       "      <td>10000.0</td>\n",
       "      <td>800.0</td>\n",
       "      <td>1.0</td>\n",
       "      <td>Hyderabad</td>\n",
       "    </tr>\n",
       "    <tr>\n",
       "      <th>104935</th>\n",
       "      <td>1.0</td>\n",
       "      <td>Andheri West</td>\n",
       "      <td>31000.0</td>\n",
       "      <td>500.0</td>\n",
       "      <td>1.0</td>\n",
       "      <td>Mumbai</td>\n",
       "    </tr>\n",
       "  </tbody>\n",
       "</table>\n",
       "</div>"
      ],
      "text/plain": [
       "        bedroom         locality    price    area  bathroom       city\n",
       "130980      2.0       Thane West  22000.0   850.0       2.0     Mumbai\n",
       "91068       2.0      Chandanagar  24000.0  1295.0       2.0  Hyderabad\n",
       "20033       2.0  Krishnarajapura  10375.0   800.0       1.0  Bangalore\n",
       "21397       1.0     Marathahalli   9750.0   600.0       1.0  Bangalore\n",
       "156254      3.0         Kharghar  30000.0  1800.0       3.0     Mumbai\n",
       "92818       2.0      Mehdipatnam  10000.0   800.0       1.0  Hyderabad\n",
       "104935      1.0     Andheri West  31000.0   500.0       1.0     Mumbai"
      ]
     },
     "execution_count": 8,
     "metadata": {},
     "output_type": "execute_result"
    }
   ],
   "source": [
    "#Dropping columns which have a comparatively lesser significance considering the huge volume of data\n",
    "#Note that all the removed columns are columns that contain text data\n",
    "\n",
    "df2 = df1.drop(['seller_type', 'layout_type', 'property_type', 'furnish_type'], axis=1)\n",
    "df2.sample(n=7)"
   ]
  },
  {
   "cell_type": "code",
   "execution_count": 9,
   "id": "6f0ff6b6",
   "metadata": {},
   "outputs": [
    {
     "data": {
      "text/plain": [
       "(193011, 6)"
      ]
     },
     "execution_count": 9,
     "metadata": {},
     "output_type": "execute_result"
    }
   ],
   "source": [
    "df2.shape"
   ]
  },
  {
   "cell_type": "code",
   "execution_count": 10,
   "id": "6ca5097f",
   "metadata": {},
   "outputs": [
    {
     "data": {
      "text/plain": [
       "Index(['bedroom', 'locality', 'price', 'area', 'bathroom', 'city'], dtype='object')"
      ]
     },
     "execution_count": 10,
     "metadata": {},
     "output_type": "execute_result"
    }
   ],
   "source": [
    "df2.columns"
   ]
  },
  {
   "cell_type": "markdown",
   "id": "b83beb75",
   "metadata": {},
   "source": [
    "# Data Cleaning"
   ]
  },
  {
   "cell_type": "code",
   "execution_count": 11,
   "id": "65da98d5",
   "metadata": {},
   "outputs": [
    {
     "data": {
      "text/plain": [
       "bedroom     0\n",
       "locality    0\n",
       "price       0\n",
       "area        0\n",
       "bathroom    0\n",
       "city        0\n",
       "dtype: int64"
      ]
     },
     "execution_count": 11,
     "metadata": {},
     "output_type": "execute_result"
    }
   ],
   "source": [
    "df2.isnull().sum()"
   ]
  },
  {
   "cell_type": "code",
   "execution_count": 12,
   "id": "380360af",
   "metadata": {},
   "outputs": [
    {
     "data": {
      "text/plain": [
       "bedroom     0\n",
       "locality    0\n",
       "price       0\n",
       "area        0\n",
       "bathroom    0\n",
       "city        0\n",
       "dtype: int64"
      ]
     },
     "execution_count": 12,
     "metadata": {},
     "output_type": "execute_result"
    }
   ],
   "source": [
    "df3 = df2.dropna()\n",
    "df3.isnull().sum()"
   ]
  },
  {
   "cell_type": "code",
   "execution_count": 13,
   "id": "cbdb8eba",
   "metadata": {},
   "outputs": [
    {
     "data": {
      "text/plain": [
       "(193011, 6)"
      ]
     },
     "execution_count": 13,
     "metadata": {},
     "output_type": "execute_result"
    }
   ],
   "source": [
    "df3.shape"
   ]
  },
  {
   "cell_type": "markdown",
   "id": "ca4516c5",
   "metadata": {},
   "source": [
    "# Feature Engineering"
   ]
  },
  {
   "cell_type": "code",
   "execution_count": 14,
   "id": "525b58d9",
   "metadata": {},
   "outputs": [],
   "source": [
    "#Function to analyse the area feature which gives the total area of the property in sqft\n",
    "\n",
    "def is_float(x):\n",
    "    try:\n",
    "        float(x)\n",
    "    except:\n",
    "        return False\n",
    "    return True"
   ]
  },
  {
   "cell_type": "code",
   "execution_count": 15,
   "id": "c915a55f",
   "metadata": {},
   "outputs": [
    {
     "data": {
      "text/html": [
       "<div>\n",
       "<style scoped>\n",
       "    .dataframe tbody tr th:only-of-type {\n",
       "        vertical-align: middle;\n",
       "    }\n",
       "\n",
       "    .dataframe tbody tr th {\n",
       "        vertical-align: top;\n",
       "    }\n",
       "\n",
       "    .dataframe thead th {\n",
       "        text-align: right;\n",
       "    }\n",
       "</style>\n",
       "<table border=\"1\" class=\"dataframe\">\n",
       "  <thead>\n",
       "    <tr style=\"text-align: right;\">\n",
       "      <th></th>\n",
       "      <th>bedroom</th>\n",
       "      <th>locality</th>\n",
       "      <th>price</th>\n",
       "      <th>area</th>\n",
       "      <th>bathroom</th>\n",
       "      <th>city</th>\n",
       "    </tr>\n",
       "  </thead>\n",
       "  <tbody>\n",
       "  </tbody>\n",
       "</table>\n",
       "</div>"
      ],
      "text/plain": [
       "Empty DataFrame\n",
       "Columns: [bedroom, locality, price, area, bathroom, city]\n",
       "Index: []"
      ]
     },
     "execution_count": 15,
     "metadata": {},
     "output_type": "execute_result"
    }
   ],
   "source": [
    "df3[~df3['area'].apply(is_float)].head(5)"
   ]
  },
  {
   "cell_type": "code",
   "execution_count": 16,
   "id": "5159f981",
   "metadata": {},
   "outputs": [],
   "source": [
    "\n",
    "def convert_sqft_to_num(x):\n",
    "    tokens = x.split('-')\n",
    "    if len(tokens) == 2:\n",
    "        return (float(tokens[0])+float(tokens[1]))/2\n",
    "    try:\n",
    "        return float(x)\n",
    "    except:\n",
    "        return None   "
   ]
  },
  {
   "cell_type": "code",
   "execution_count": 17,
   "id": "38a561cb",
   "metadata": {},
   "outputs": [
    {
     "ename": "AttributeError",
     "evalue": "'float' object has no attribute 'split'",
     "output_type": "error",
     "traceback": [
      "\u001b[1;31m---------------------------------------------------------------------------\u001b[0m",
      "\u001b[1;31mAttributeError\u001b[0m                            Traceback (most recent call last)",
      "Cell \u001b[1;32mIn[17], line 2\u001b[0m\n\u001b[0;32m      1\u001b[0m df4 \u001b[38;5;241m=\u001b[39m df3\u001b[38;5;241m.\u001b[39mcopy()\n\u001b[1;32m----> 2\u001b[0m df4\u001b[38;5;241m.\u001b[39marea \u001b[38;5;241m=\u001b[39m \u001b[43mdf4\u001b[49m\u001b[38;5;241;43m.\u001b[39;49m\u001b[43marea\u001b[49m\u001b[38;5;241;43m.\u001b[39;49m\u001b[43mapply\u001b[49m\u001b[43m(\u001b[49m\u001b[43mconvert_sqft_to_num\u001b[49m\u001b[43m)\u001b[49m\n\u001b[0;32m      3\u001b[0m df4 \u001b[38;5;241m=\u001b[39m df4[df4\u001b[38;5;241m.\u001b[39marea\u001b[38;5;241m.\u001b[39mnotnull()]\n\u001b[0;32m      4\u001b[0m df4\u001b[38;5;241m.\u001b[39mhead(\u001b[38;5;241m2\u001b[39m)\n",
      "File \u001b[1;32m~\\PycharmProjects\\pythonProject\\venv\\lib\\site-packages\\pandas\\core\\series.py:4433\u001b[0m, in \u001b[0;36mSeries.apply\u001b[1;34m(self, func, convert_dtype, args, **kwargs)\u001b[0m\n\u001b[0;32m   4323\u001b[0m \u001b[38;5;28;01mdef\u001b[39;00m \u001b[38;5;21mapply\u001b[39m(\n\u001b[0;32m   4324\u001b[0m     \u001b[38;5;28mself\u001b[39m,\n\u001b[0;32m   4325\u001b[0m     func: AggFuncType,\n\u001b[1;32m   (...)\u001b[0m\n\u001b[0;32m   4328\u001b[0m     \u001b[38;5;241m*\u001b[39m\u001b[38;5;241m*\u001b[39mkwargs,\n\u001b[0;32m   4329\u001b[0m ) \u001b[38;5;241m-\u001b[39m\u001b[38;5;241m>\u001b[39m DataFrame \u001b[38;5;241m|\u001b[39m Series:\n\u001b[0;32m   4330\u001b[0m \u001b[38;5;250m    \u001b[39m\u001b[38;5;124;03m\"\"\"\u001b[39;00m\n\u001b[0;32m   4331\u001b[0m \u001b[38;5;124;03m    Invoke function on values of Series.\u001b[39;00m\n\u001b[0;32m   4332\u001b[0m \n\u001b[1;32m   (...)\u001b[0m\n\u001b[0;32m   4431\u001b[0m \u001b[38;5;124;03m    dtype: float64\u001b[39;00m\n\u001b[0;32m   4432\u001b[0m \u001b[38;5;124;03m    \"\"\"\u001b[39;00m\n\u001b[1;32m-> 4433\u001b[0m     \u001b[38;5;28;01mreturn\u001b[39;00m \u001b[43mSeriesApply\u001b[49m\u001b[43m(\u001b[49m\u001b[38;5;28;43mself\u001b[39;49m\u001b[43m,\u001b[49m\u001b[43m \u001b[49m\u001b[43mfunc\u001b[49m\u001b[43m,\u001b[49m\u001b[43m \u001b[49m\u001b[43mconvert_dtype\u001b[49m\u001b[43m,\u001b[49m\u001b[43m \u001b[49m\u001b[43margs\u001b[49m\u001b[43m,\u001b[49m\u001b[43m \u001b[49m\u001b[43mkwargs\u001b[49m\u001b[43m)\u001b[49m\u001b[38;5;241;43m.\u001b[39;49m\u001b[43mapply\u001b[49m\u001b[43m(\u001b[49m\u001b[43m)\u001b[49m\n",
      "File \u001b[1;32m~\\PycharmProjects\\pythonProject\\venv\\lib\\site-packages\\pandas\\core\\apply.py:1088\u001b[0m, in \u001b[0;36mSeriesApply.apply\u001b[1;34m(self)\u001b[0m\n\u001b[0;32m   1084\u001b[0m \u001b[38;5;28;01mif\u001b[39;00m \u001b[38;5;28misinstance\u001b[39m(\u001b[38;5;28mself\u001b[39m\u001b[38;5;241m.\u001b[39mf, \u001b[38;5;28mstr\u001b[39m):\n\u001b[0;32m   1085\u001b[0m     \u001b[38;5;66;03m# if we are a string, try to dispatch\u001b[39;00m\n\u001b[0;32m   1086\u001b[0m     \u001b[38;5;28;01mreturn\u001b[39;00m \u001b[38;5;28mself\u001b[39m\u001b[38;5;241m.\u001b[39mapply_str()\n\u001b[1;32m-> 1088\u001b[0m \u001b[38;5;28;01mreturn\u001b[39;00m \u001b[38;5;28;43mself\u001b[39;49m\u001b[38;5;241;43m.\u001b[39;49m\u001b[43mapply_standard\u001b[49m\u001b[43m(\u001b[49m\u001b[43m)\u001b[49m\n",
      "File \u001b[1;32m~\\PycharmProjects\\pythonProject\\venv\\lib\\site-packages\\pandas\\core\\apply.py:1143\u001b[0m, in \u001b[0;36mSeriesApply.apply_standard\u001b[1;34m(self)\u001b[0m\n\u001b[0;32m   1137\u001b[0m         values \u001b[38;5;241m=\u001b[39m obj\u001b[38;5;241m.\u001b[39mastype(\u001b[38;5;28mobject\u001b[39m)\u001b[38;5;241m.\u001b[39m_values\n\u001b[0;32m   1138\u001b[0m         \u001b[38;5;66;03m# error: Argument 2 to \"map_infer\" has incompatible type\u001b[39;00m\n\u001b[0;32m   1139\u001b[0m         \u001b[38;5;66;03m# \"Union[Callable[..., Any], str, List[Union[Callable[..., Any], str]],\u001b[39;00m\n\u001b[0;32m   1140\u001b[0m         \u001b[38;5;66;03m# Dict[Hashable, Union[Union[Callable[..., Any], str],\u001b[39;00m\n\u001b[0;32m   1141\u001b[0m         \u001b[38;5;66;03m# List[Union[Callable[..., Any], str]]]]]\"; expected\u001b[39;00m\n\u001b[0;32m   1142\u001b[0m         \u001b[38;5;66;03m# \"Callable[[Any], Any]\"\u001b[39;00m\n\u001b[1;32m-> 1143\u001b[0m         mapped \u001b[38;5;241m=\u001b[39m \u001b[43mlib\u001b[49m\u001b[38;5;241;43m.\u001b[39;49m\u001b[43mmap_infer\u001b[49m\u001b[43m(\u001b[49m\n\u001b[0;32m   1144\u001b[0m \u001b[43m            \u001b[49m\u001b[43mvalues\u001b[49m\u001b[43m,\u001b[49m\n\u001b[0;32m   1145\u001b[0m \u001b[43m            \u001b[49m\u001b[43mf\u001b[49m\u001b[43m,\u001b[49m\u001b[43m  \u001b[49m\u001b[38;5;66;43;03m# type: ignore[arg-type]\u001b[39;49;00m\n\u001b[0;32m   1146\u001b[0m \u001b[43m            \u001b[49m\u001b[43mconvert\u001b[49m\u001b[38;5;241;43m=\u001b[39;49m\u001b[38;5;28;43mself\u001b[39;49m\u001b[38;5;241;43m.\u001b[39;49m\u001b[43mconvert_dtype\u001b[49m\u001b[43m,\u001b[49m\n\u001b[0;32m   1147\u001b[0m \u001b[43m        \u001b[49m\u001b[43m)\u001b[49m\n\u001b[0;32m   1149\u001b[0m \u001b[38;5;28;01mif\u001b[39;00m \u001b[38;5;28mlen\u001b[39m(mapped) \u001b[38;5;129;01mand\u001b[39;00m \u001b[38;5;28misinstance\u001b[39m(mapped[\u001b[38;5;241m0\u001b[39m], ABCSeries):\n\u001b[0;32m   1150\u001b[0m     \u001b[38;5;66;03m# GH#43986 Need to do list(mapped) in order to get treated as nested\u001b[39;00m\n\u001b[0;32m   1151\u001b[0m     \u001b[38;5;66;03m#  See also GH#25959 regarding EA support\u001b[39;00m\n\u001b[0;32m   1152\u001b[0m     \u001b[38;5;28;01mreturn\u001b[39;00m obj\u001b[38;5;241m.\u001b[39m_constructor_expanddim(\u001b[38;5;28mlist\u001b[39m(mapped), index\u001b[38;5;241m=\u001b[39mobj\u001b[38;5;241m.\u001b[39mindex)\n",
      "File \u001b[1;32m~\\PycharmProjects\\pythonProject\\venv\\lib\\site-packages\\pandas\\_libs\\lib.pyx:2870\u001b[0m, in \u001b[0;36mpandas._libs.lib.map_infer\u001b[1;34m()\u001b[0m\n",
      "Cell \u001b[1;32mIn[16], line 2\u001b[0m, in \u001b[0;36mconvert_sqft_to_num\u001b[1;34m(x)\u001b[0m\n\u001b[0;32m      1\u001b[0m \u001b[38;5;28;01mdef\u001b[39;00m \u001b[38;5;21mconvert_sqft_to_num\u001b[39m(x):\n\u001b[1;32m----> 2\u001b[0m     tokens \u001b[38;5;241m=\u001b[39m \u001b[43mx\u001b[49m\u001b[38;5;241;43m.\u001b[39;49m\u001b[43msplit\u001b[49m(\u001b[38;5;124m'\u001b[39m\u001b[38;5;124m-\u001b[39m\u001b[38;5;124m'\u001b[39m)\n\u001b[0;32m      3\u001b[0m     \u001b[38;5;28;01mif\u001b[39;00m \u001b[38;5;28mlen\u001b[39m(tokens) \u001b[38;5;241m==\u001b[39m \u001b[38;5;241m2\u001b[39m:\n\u001b[0;32m      4\u001b[0m         \u001b[38;5;28;01mreturn\u001b[39;00m (\u001b[38;5;28mfloat\u001b[39m(tokens[\u001b[38;5;241m0\u001b[39m])\u001b[38;5;241m+\u001b[39m\u001b[38;5;28mfloat\u001b[39m(tokens[\u001b[38;5;241m1\u001b[39m]))\u001b[38;5;241m/\u001b[39m\u001b[38;5;241m2\u001b[39m\n",
      "\u001b[1;31mAttributeError\u001b[0m: 'float' object has no attribute 'split'"
     ]
    }
   ],
   "source": [
    "df4 = df3.copy()\n",
    "df4.area = df4.area.apply(convert_sqft_to_num)\n",
    "df4 = df4[df4.area.notnull()]\n",
    "df4.head(2)"
   ]
  },
  {
   "cell_type": "markdown",
   "id": "5fe2bd1b",
   "metadata": {},
   "source": [
    "# Introducing a new feature price_per_sqft"
   ]
  },
  {
   "cell_type": "code",
   "execution_count": 18,
   "id": "ee5bdc40",
   "metadata": {},
   "outputs": [
    {
     "data": {
      "text/html": [
       "<div>\n",
       "<style scoped>\n",
       "    .dataframe tbody tr th:only-of-type {\n",
       "        vertical-align: middle;\n",
       "    }\n",
       "\n",
       "    .dataframe tbody tr th {\n",
       "        vertical-align: top;\n",
       "    }\n",
       "\n",
       "    .dataframe thead th {\n",
       "        text-align: right;\n",
       "    }\n",
       "</style>\n",
       "<table border=\"1\" class=\"dataframe\">\n",
       "  <thead>\n",
       "    <tr style=\"text-align: right;\">\n",
       "      <th></th>\n",
       "      <th>bedroom</th>\n",
       "      <th>locality</th>\n",
       "      <th>price</th>\n",
       "      <th>area</th>\n",
       "      <th>bathroom</th>\n",
       "      <th>city</th>\n",
       "      <th>price_per_sqft</th>\n",
       "    </tr>\n",
       "  </thead>\n",
       "  <tbody>\n",
       "    <tr>\n",
       "      <th>0</th>\n",
       "      <td>2.0</td>\n",
       "      <td>Bodakdev</td>\n",
       "      <td>20000.0</td>\n",
       "      <td>1450.0</td>\n",
       "      <td>2.0</td>\n",
       "      <td>Ahmedabad</td>\n",
       "      <td>1.379310e+06</td>\n",
       "    </tr>\n",
       "    <tr>\n",
       "      <th>1</th>\n",
       "      <td>1.0</td>\n",
       "      <td>CG Road</td>\n",
       "      <td>7350.0</td>\n",
       "      <td>210.0</td>\n",
       "      <td>1.0</td>\n",
       "      <td>Ahmedabad</td>\n",
       "      <td>3.500000e+06</td>\n",
       "    </tr>\n",
       "    <tr>\n",
       "      <th>2</th>\n",
       "      <td>3.0</td>\n",
       "      <td>Jodhpur</td>\n",
       "      <td>22000.0</td>\n",
       "      <td>1900.0</td>\n",
       "      <td>3.0</td>\n",
       "      <td>Ahmedabad</td>\n",
       "      <td>1.157895e+06</td>\n",
       "    </tr>\n",
       "    <tr>\n",
       "      <th>3</th>\n",
       "      <td>2.0</td>\n",
       "      <td>Sanand</td>\n",
       "      <td>13000.0</td>\n",
       "      <td>1285.0</td>\n",
       "      <td>2.0</td>\n",
       "      <td>Ahmedabad</td>\n",
       "      <td>1.011673e+06</td>\n",
       "    </tr>\n",
       "    <tr>\n",
       "      <th>4</th>\n",
       "      <td>2.0</td>\n",
       "      <td>Navrangpura</td>\n",
       "      <td>18000.0</td>\n",
       "      <td>1600.0</td>\n",
       "      <td>2.0</td>\n",
       "      <td>Ahmedabad</td>\n",
       "      <td>1.125000e+06</td>\n",
       "    </tr>\n",
       "  </tbody>\n",
       "</table>\n",
       "</div>"
      ],
      "text/plain": [
       "   bedroom     locality    price    area  bathroom       city  price_per_sqft\n",
       "0      2.0     Bodakdev  20000.0  1450.0       2.0  Ahmedabad    1.379310e+06\n",
       "1      1.0      CG Road   7350.0   210.0       1.0  Ahmedabad    3.500000e+06\n",
       "2      3.0      Jodhpur  22000.0  1900.0       3.0  Ahmedabad    1.157895e+06\n",
       "3      2.0       Sanand  13000.0  1285.0       2.0  Ahmedabad    1.011673e+06\n",
       "4      2.0  Navrangpura  18000.0  1600.0       2.0  Ahmedabad    1.125000e+06"
      ]
     },
     "execution_count": 18,
     "metadata": {},
     "output_type": "execute_result"
    }
   ],
   "source": [
    "df5 = df4.copy()\n",
    "df5['price_per_sqft'] = df5['price']*100000/df5['area']\n",
    "df5.head()"
   ]
  },
  {
   "cell_type": "code",
   "execution_count": 19,
   "id": "a869c010",
   "metadata": {},
   "outputs": [
    {
     "data": {
      "text/plain": [
       "count    1.930110e+05\n",
       "mean     2.941201e+06\n",
       "std      2.892211e+06\n",
       "min      4.000000e+05\n",
       "25%      1.500000e+06\n",
       "50%      2.095238e+06\n",
       "75%      3.500000e+06\n",
       "max      7.050000e+08\n",
       "Name: price_per_sqft, dtype: float64"
      ]
     },
     "execution_count": 19,
     "metadata": {},
     "output_type": "execute_result"
    }
   ],
   "source": [
    "df5_stats = df5['price_per_sqft'].describe()\n",
    "df5_stats"
   ]
  },
  {
   "cell_type": "markdown",
   "id": "d1c34323",
   "metadata": {},
   "source": [
    "# Applying dimensionality reduction to reduce the number of unique values in locality"
   ]
  },
  {
   "cell_type": "code",
   "execution_count": 20,
   "id": "35fef575",
   "metadata": {},
   "outputs": [
    {
     "data": {
      "text/plain": [
       "Thane West                 4478\n",
       "Chembur                    3549\n",
       "Andheri East               3415\n",
       "Bopal                      2933\n",
       "Kharghar                   2614\n",
       "                           ... \n",
       "Kuthambakkam                  1\n",
       "Agaramthen                    1\n",
       "Daighar Gaon                  1\n",
       "Mettukuppam Kanchipuram       1\n",
       "Aundh Gaon                    1\n",
       "Name: locality, Length: 4146, dtype: int64"
      ]
     },
     "execution_count": 20,
     "metadata": {},
     "output_type": "execute_result"
    }
   ],
   "source": [
    "df5.locality = df5.locality.apply(lambda x: x.strip())\n",
    "location_stats = df5['locality'].value_counts(ascending=False)\n",
    "location_stats"
   ]
  },
  {
   "cell_type": "code",
   "execution_count": 21,
   "id": "9d4df9f9",
   "metadata": {},
   "outputs": [
    {
     "data": {
      "text/plain": [
       "193011"
      ]
     },
     "execution_count": 21,
     "metadata": {},
     "output_type": "execute_result"
    }
   ],
   "source": [
    "location_stats.values.sum()"
   ]
  },
  {
   "cell_type": "code",
   "execution_count": 22,
   "id": "94596f79",
   "metadata": {},
   "outputs": [
    {
     "data": {
      "text/plain": [
       "1235"
      ]
     },
     "execution_count": 22,
     "metadata": {},
     "output_type": "execute_result"
    }
   ],
   "source": [
    "len(location_stats[location_stats>10])"
   ]
  },
  {
   "cell_type": "code",
   "execution_count": 23,
   "id": "67cb452a",
   "metadata": {},
   "outputs": [
    {
     "data": {
      "text/plain": [
       "4146"
      ]
     },
     "execution_count": 23,
     "metadata": {},
     "output_type": "execute_result"
    }
   ],
   "source": [
    "len(location_stats)"
   ]
  },
  {
   "cell_type": "code",
   "execution_count": 24,
   "id": "a553174f",
   "metadata": {},
   "outputs": [
    {
     "data": {
      "text/plain": [
       "2911"
      ]
     },
     "execution_count": 24,
     "metadata": {},
     "output_type": "execute_result"
    }
   ],
   "source": [
    "len(location_stats[location_stats<=10])"
   ]
  },
  {
   "cell_type": "markdown",
   "id": "adf8b57e",
   "metadata": {},
   "source": [
    "# Dimensionality Reduction"
   ]
  },
  {
   "cell_type": "code",
   "execution_count": 25,
   "id": "28f2b6a7",
   "metadata": {},
   "outputs": [
    {
     "data": {
      "text/plain": [
       "asha nagar thakur complex kandivali east    10\n",
       "Kanchan Bagh                                10\n",
       "Bharat Nagar                                10\n",
       "Mukund Nagar                                10\n",
       "Off Bannerghatta Road                       10\n",
       "                                            ..\n",
       "Kuthambakkam                                 1\n",
       "Agaramthen                                   1\n",
       "Daighar Gaon                                 1\n",
       "Mettukuppam Kanchipuram                      1\n",
       "Aundh Gaon                                   1\n",
       "Name: locality, Length: 2911, dtype: int64"
      ]
     },
     "execution_count": 25,
     "metadata": {},
     "output_type": "execute_result"
    }
   ],
   "source": [
    "#Remove localities with less than 10 data points are tagged as'other' locality.\n",
    "#Reduces number of categories and helps in fewer dummy columns when one hot encoding is performed during model creation\n",
    "\n",
    "location_stats_less_than_10 = location_stats[location_stats<=10]\n",
    "location_stats_less_than_10"
   ]
  },
  {
   "cell_type": "code",
   "execution_count": 26,
   "id": "0b48f081",
   "metadata": {},
   "outputs": [
    {
     "data": {
      "text/plain": [
       "4146"
      ]
     },
     "execution_count": 26,
     "metadata": {},
     "output_type": "execute_result"
    }
   ],
   "source": [
    "len(df5.locality.unique())"
   ]
  },
  {
   "cell_type": "code",
   "execution_count": 27,
   "id": "b24be20c",
   "metadata": {},
   "outputs": [
    {
     "data": {
      "text/plain": [
       "1236"
      ]
     },
     "execution_count": 27,
     "metadata": {},
     "output_type": "execute_result"
    }
   ],
   "source": [
    "df5.locality = df5.locality.apply(lambda x: 'other' if x in location_stats_less_than_10 else x)\n",
    "len(df5.locality.unique())"
   ]
  },
  {
   "cell_type": "code",
   "execution_count": 28,
   "id": "b844a994",
   "metadata": {},
   "outputs": [
    {
     "data": {
      "text/html": [
       "<div>\n",
       "<style scoped>\n",
       "    .dataframe tbody tr th:only-of-type {\n",
       "        vertical-align: middle;\n",
       "    }\n",
       "\n",
       "    .dataframe tbody tr th {\n",
       "        vertical-align: top;\n",
       "    }\n",
       "\n",
       "    .dataframe thead th {\n",
       "        text-align: right;\n",
       "    }\n",
       "</style>\n",
       "<table border=\"1\" class=\"dataframe\">\n",
       "  <thead>\n",
       "    <tr style=\"text-align: right;\">\n",
       "      <th></th>\n",
       "      <th>bedroom</th>\n",
       "      <th>locality</th>\n",
       "      <th>price</th>\n",
       "      <th>area</th>\n",
       "      <th>bathroom</th>\n",
       "      <th>city</th>\n",
       "      <th>price_per_sqft</th>\n",
       "    </tr>\n",
       "  </thead>\n",
       "  <tbody>\n",
       "    <tr>\n",
       "      <th>6243</th>\n",
       "      <td>2.0</td>\n",
       "      <td>Satellite</td>\n",
       "      <td>16000.0</td>\n",
       "      <td>1230.0</td>\n",
       "      <td>1.0</td>\n",
       "      <td>Ahmedabad</td>\n",
       "      <td>1.300813e+06</td>\n",
       "    </tr>\n",
       "    <tr>\n",
       "      <th>89663</th>\n",
       "      <td>1.0</td>\n",
       "      <td>LB Nagar</td>\n",
       "      <td>6000.0</td>\n",
       "      <td>380.0</td>\n",
       "      <td>1.0</td>\n",
       "      <td>Hyderabad</td>\n",
       "      <td>1.578947e+06</td>\n",
       "    </tr>\n",
       "    <tr>\n",
       "      <th>31494</th>\n",
       "      <td>1.0</td>\n",
       "      <td>Indira Nagar</td>\n",
       "      <td>20000.0</td>\n",
       "      <td>1100.0</td>\n",
       "      <td>1.0</td>\n",
       "      <td>Bangalore</td>\n",
       "      <td>1.818182e+06</td>\n",
       "    </tr>\n",
       "    <tr>\n",
       "      <th>109834</th>\n",
       "      <td>1.0</td>\n",
       "      <td>Andheri East</td>\n",
       "      <td>15000.0</td>\n",
       "      <td>350.0</td>\n",
       "      <td>1.0</td>\n",
       "      <td>Mumbai</td>\n",
       "      <td>4.285714e+06</td>\n",
       "    </tr>\n",
       "    <tr>\n",
       "      <th>15947</th>\n",
       "      <td>3.0</td>\n",
       "      <td>Chandkheda</td>\n",
       "      <td>13500.0</td>\n",
       "      <td>1300.0</td>\n",
       "      <td>3.0</td>\n",
       "      <td>Ahmedabad</td>\n",
       "      <td>1.038462e+06</td>\n",
       "    </tr>\n",
       "  </tbody>\n",
       "</table>\n",
       "</div>"
      ],
      "text/plain": [
       "        bedroom      locality    price    area  bathroom       city  \\\n",
       "6243        2.0     Satellite  16000.0  1230.0       1.0  Ahmedabad   \n",
       "89663       1.0      LB Nagar   6000.0   380.0       1.0  Hyderabad   \n",
       "31494       1.0  Indira Nagar  20000.0  1100.0       1.0  Bangalore   \n",
       "109834      1.0  Andheri East  15000.0   350.0       1.0     Mumbai   \n",
       "15947       3.0    Chandkheda  13500.0  1300.0       3.0  Ahmedabad   \n",
       "\n",
       "        price_per_sqft  \n",
       "6243      1.300813e+06  \n",
       "89663     1.578947e+06  \n",
       "31494     1.818182e+06  \n",
       "109834    4.285714e+06  \n",
       "15947     1.038462e+06  "
      ]
     },
     "execution_count": 28,
     "metadata": {},
     "output_type": "execute_result"
    }
   ],
   "source": [
    "df5.sample(n=5)"
   ]
  },
  {
   "cell_type": "markdown",
   "id": "bc2c3cb1",
   "metadata": {},
   "source": [
    "# Outlier Removal"
   ]
  },
  {
   "cell_type": "code",
   "execution_count": 29,
   "id": "8d0436b1",
   "metadata": {},
   "outputs": [
    {
     "data": {
      "text/html": [
       "<div>\n",
       "<style scoped>\n",
       "    .dataframe tbody tr th:only-of-type {\n",
       "        vertical-align: middle;\n",
       "    }\n",
       "\n",
       "    .dataframe tbody tr th {\n",
       "        vertical-align: top;\n",
       "    }\n",
       "\n",
       "    .dataframe thead th {\n",
       "        text-align: right;\n",
       "    }\n",
       "</style>\n",
       "<table border=\"1\" class=\"dataframe\">\n",
       "  <thead>\n",
       "    <tr style=\"text-align: right;\">\n",
       "      <th></th>\n",
       "      <th>bedroom</th>\n",
       "      <th>locality</th>\n",
       "      <th>price</th>\n",
       "      <th>area</th>\n",
       "      <th>bathroom</th>\n",
       "      <th>city</th>\n",
       "      <th>price_per_sqft</th>\n",
       "    </tr>\n",
       "  </thead>\n",
       "  <tbody>\n",
       "    <tr>\n",
       "      <th>1</th>\n",
       "      <td>1.0</td>\n",
       "      <td>other</td>\n",
       "      <td>7350.0</td>\n",
       "      <td>210.0</td>\n",
       "      <td>1.0</td>\n",
       "      <td>Ahmedabad</td>\n",
       "      <td>3.500000e+06</td>\n",
       "    </tr>\n",
       "    <tr>\n",
       "      <th>6</th>\n",
       "      <td>1.0</td>\n",
       "      <td>Jivraj Park</td>\n",
       "      <td>6000.0</td>\n",
       "      <td>180.0</td>\n",
       "      <td>1.0</td>\n",
       "      <td>Ahmedabad</td>\n",
       "      <td>3.333333e+06</td>\n",
       "    </tr>\n",
       "    <tr>\n",
       "      <th>16</th>\n",
       "      <td>1.0</td>\n",
       "      <td>Satellite</td>\n",
       "      <td>8000.0</td>\n",
       "      <td>160.0</td>\n",
       "      <td>1.0</td>\n",
       "      <td>Ahmedabad</td>\n",
       "      <td>5.000000e+06</td>\n",
       "    </tr>\n",
       "    <tr>\n",
       "      <th>23</th>\n",
       "      <td>1.0</td>\n",
       "      <td>Ghatlodiya</td>\n",
       "      <td>5000.0</td>\n",
       "      <td>200.0</td>\n",
       "      <td>1.0</td>\n",
       "      <td>Ahmedabad</td>\n",
       "      <td>2.500000e+06</td>\n",
       "    </tr>\n",
       "    <tr>\n",
       "      <th>34</th>\n",
       "      <td>1.0</td>\n",
       "      <td>other</td>\n",
       "      <td>11000.0</td>\n",
       "      <td>186.0</td>\n",
       "      <td>1.0</td>\n",
       "      <td>Ahmedabad</td>\n",
       "      <td>5.913978e+06</td>\n",
       "    </tr>\n",
       "  </tbody>\n",
       "</table>\n",
       "</div>"
      ],
      "text/plain": [
       "    bedroom     locality    price   area  bathroom       city  price_per_sqft\n",
       "1       1.0        other   7350.0  210.0       1.0  Ahmedabad    3.500000e+06\n",
       "6       1.0  Jivraj Park   6000.0  180.0       1.0  Ahmedabad    3.333333e+06\n",
       "16      1.0    Satellite   8000.0  160.0       1.0  Ahmedabad    5.000000e+06\n",
       "23      1.0   Ghatlodiya   5000.0  200.0       1.0  Ahmedabad    2.500000e+06\n",
       "34      1.0        other  11000.0  186.0       1.0  Ahmedabad    5.913978e+06"
      ]
     },
     "execution_count": 29,
     "metadata": {},
     "output_type": "execute_result"
    }
   ],
   "source": [
    "#Identifying the number of data entries where the area of a bedroom is less than 300sqft as\n",
    "#it is rare to have a bedroom that has an area lesser than 300 sqft\n",
    "\n",
    "df5[df5.area/df5.bedroom<300].head()"
   ]
  },
  {
   "cell_type": "code",
   "execution_count": 30,
   "id": "1aae944a",
   "metadata": {},
   "outputs": [
    {
     "data": {
      "text/plain": [
       "(193011, 7)"
      ]
     },
     "execution_count": 30,
     "metadata": {},
     "output_type": "execute_result"
    }
   ],
   "source": [
    "df5.shape"
   ]
  },
  {
   "cell_type": "code",
   "execution_count": 31,
   "id": "5e41f070",
   "metadata": {},
   "outputs": [
    {
     "data": {
      "text/plain": [
       "(187676, 7)"
      ]
     },
     "execution_count": 31,
     "metadata": {},
     "output_type": "execute_result"
    }
   ],
   "source": [
    "df6 = df5[~(df5.area/df5.bedroom<300)]\n",
    "df6.shape"
   ]
  },
  {
   "cell_type": "markdown",
   "id": "d21de1de",
   "metadata": {},
   "source": [
    "# Outlier removal using standard deviation and mean"
   ]
  },
  {
   "cell_type": "code",
   "execution_count": 32,
   "id": "3c54bc86",
   "metadata": {},
   "outputs": [
    {
     "data": {
      "text/plain": [
       "count    1.876760e+05\n",
       "mean     2.917810e+06\n",
       "std      2.403264e+06\n",
       "min      4.000000e+05\n",
       "25%      1.483172e+06\n",
       "50%      2.083333e+06\n",
       "75%      3.472222e+06\n",
       "max      4.000000e+07\n",
       "Name: price_per_sqft, dtype: float64"
      ]
     },
     "execution_count": 32,
     "metadata": {},
     "output_type": "execute_result"
    }
   ],
   "source": [
    "df6.price_per_sqft.describe()"
   ]
  },
  {
   "cell_type": "code",
   "execution_count": 33,
   "id": "5d2fc345",
   "metadata": {},
   "outputs": [
    {
     "data": {
      "text/plain": [
       "(145961, 7)"
      ]
     },
     "execution_count": 33,
     "metadata": {},
     "output_type": "execute_result"
    }
   ],
   "source": [
    "#Removing outliers per location as the range of price_per_sqft is too large which\n",
    "#clearly shows outliers\n",
    "\n",
    "def remove_pps_outliers(df):\n",
    "    df_out = pd.DataFrame()\n",
    "    for key, subdf in df.groupby('locality'):\n",
    "        m = np.mean(subdf.price_per_sqft)\n",
    "        st = np.std(subdf.price_per_sqft)\n",
    "        reduced_df = subdf[(subdf.price_per_sqft>(m-st)) & (subdf.price_per_sqft<=(m+st))]\n",
    "        df_out = pd.concat([df_out,reduced_df],ignore_index=True)\n",
    "    return df_out\n",
    "df7 = remove_pps_outliers(df6)\n",
    "df7.shape"
   ]
  },
  {
   "cell_type": "code",
   "execution_count": 34,
   "id": "1366fd3e",
   "metadata": {},
   "outputs": [
    {
     "data": {
      "image/png": "[encoded data removed]",
      "text/plain": [
       "<Figure size 1500x1000 with 1 Axes>"
      ]
     },
     "metadata": {},
     "output_type": "display_data"
    }
   ],
   "source": [
    "def plot_scatter_chart(df,locality):\n",
    "    bhk2 = df[(df.locality==locality) & (df.bedroom==2)]\n",
    "    bhk3 = df[(df.locality==locality) & (df.bedroom==3)]\n",
    "    matplotlib.rcParams['figure.figsize'] = (15,10)\n",
    "    plt.scatter(bhk2.area,bhk2.price,color='blue',label='2 BHK', s=50)\n",
    "    plt.scatter(bhk3.area,bhk3.price,marker='+', color='green',label='3 BHK', s=50)\n",
    "    plt.xlabel(\"Total Area (in sqft)\")\n",
    "    plt.ylabel(\"Price (Lakh Indian Rupees)\")\n",
    "    plt.title(locality)\n",
    "    plt.legend()\n",
    "    \n",
    "plot_scatter_chart(df7,\"Thiruvanmiyur\")"
   ]
  },
  {
   "cell_type": "code",
   "execution_count": 35,
   "id": "3de7e580",
   "metadata": {},
   "outputs": [
    {
     "data": {
      "image/png": "[encoded data removed]",
      "text/plain": [
       "<Figure size 1500x1000 with 1 Axes>"
      ]
     },
     "metadata": {},
     "output_type": "display_data"
    }
   ],
   "source": [
    "plot_scatter_chart(df7,\"Andheri West\")"
   ]
  },
  {
   "cell_type": "code",
   "execution_count": 36,
   "id": "8b8a236a",
   "metadata": {},
   "outputs": [
    {
     "data": {
      "text/plain": [
       "(92847, 7)"
      ]
     },
     "execution_count": 36,
     "metadata": {},
     "output_type": "execute_result"
    }
   ],
   "source": [
    "#Remove properties where for the same locality, the rent price is higher than the\n",
    "#rent price of a property which has one more bedroom, considering it to be outliers\n",
    "\n",
    "#Remove 2BHK property which have price_per_sqft is less than mean price_per_sqft of 1BHK property\n",
    "\n",
    "def remove_bhk_outliers(df):\n",
    "    exclude_indices = np.array([])\n",
    "    for location, location_df in df.groupby('locality'):\n",
    "        bhk_stats = {}\n",
    "        for bhk, bhk_df in location_df.groupby('bedroom'):\n",
    "            bhk_stats[bhk] = {\n",
    "                'mean': np.mean(bhk_df.price_per_sqft),\n",
    "                'std': np.std(bhk_df.price_per_sqft),\n",
    "                'count': bhk_df.shape[0]\n",
    "            }\n",
    "        for bhk, bhk_df in location_df.groupby('bedroom'):\n",
    "            stats = bhk_stats.get(bhk-1)\n",
    "            if stats and stats['count']>5:\n",
    "                exclude_indices = np.append(exclude_indices, bhk_df[bhk_df.price_per_sqft<(stats['mean'])].index.values)\n",
    "    return df.drop(exclude_indices,axis='index')\n",
    "df8 = remove_bhk_outliers(df7)\n",
    "# df8 = df7.copy()\n",
    "df8.shape"
   ]
  },
  {
   "cell_type": "code",
   "execution_count": 37,
   "id": "197bee70",
   "metadata": {},
   "outputs": [
    {
     "data": {
      "image/png": "[encoded data removed]",
      "text/plain": [
       "<Figure size 1500x1000 with 1 Axes>"
      ]
     },
     "metadata": {},
     "output_type": "display_data"
    }
   ],
   "source": [
    "plot_scatter_chart(df8,\"Thiruvanmiyur\")"
   ]
  },
  {
   "cell_type": "code",
   "execution_count": 38,
   "id": "e4a43881",
   "metadata": {},
   "outputs": [
    {
     "data": {
      "image/png": "[encoded data removed]",
      "text/plain": [
       "<Figure size 1500x1000 with 1 Axes>"
      ]
     },
     "metadata": {},
     "output_type": "display_data"
    }
   ],
   "source": [
    "plot_scatter_chart(df8,\"Andheri West\")"
   ]
  },
  {
   "cell_type": "code",
   "execution_count": 39,
   "id": "d5e4fa04",
   "metadata": {},
   "outputs": [
    {
     "data": {
      "image/png": "[encoded data removed]",
      "text/plain": [
       "<Figure size 2000x1000 with 1 Axes>"
      ]
     },
     "metadata": {},
     "output_type": "display_data"
    }
   ],
   "source": [
    "matplotlib.rcParams[\"figure.figsize\"] = (20,10)\n",
    "plt.hist(df8.price_per_sqft,rwidth=0.8)\n",
    "plt.xlabel(\"Price Per Square Feet\")\n",
    "plt.ylabel(\"Count\")\n",
    "plt.show()"
   ]
  },
  {
   "cell_type": "markdown",
   "id": "7dd218e9",
   "metadata": {},
   "source": [
    "# Remove outliers based on the number of bathrooms"
   ]
  },
  {
   "cell_type": "code",
   "execution_count": 40,
   "id": "2eb3094b",
   "metadata": {},
   "outputs": [
    {
     "data": {
      "text/plain": [
       "array([ 1.,  2.,  3.,  6.,  5.,  4.,  7., 10.,  8.,  9., 14., 16., 15.,\n",
       "       12.])"
      ]
     },
     "execution_count": 40,
     "metadata": {},
     "output_type": "execute_result"
    }
   ],
   "source": [
    "df8.bathroom.unique()"
   ]
  },
  {
   "cell_type": "code",
   "execution_count": 41,
   "id": "d1d1f09b",
   "metadata": {},
   "outputs": [
    {
     "data": {
      "image/png": "[encoded data removed]",
      "text/plain": [
       "<Figure size 2000x1000 with 1 Axes>"
      ]
     },
     "metadata": {},
     "output_type": "display_data"
    }
   ],
   "source": [
    "plt.hist(df8.bathroom,rwidth=0.8)\n",
    "plt.xlabel(\"Number of bathrooms\")\n",
    "plt.ylabel(\"Count\")\n",
    "plt.show()"
   ]
  },
  {
   "cell_type": "code",
   "execution_count": 42,
   "id": "8c5f7cda",
   "metadata": {},
   "outputs": [
    {
     "data": {
      "text/html": [
       "<div>\n",
       "<style scoped>\n",
       "    .dataframe tbody tr th:only-of-type {\n",
       "        vertical-align: middle;\n",
       "    }\n",
       "\n",
       "    .dataframe tbody tr th {\n",
       "        vertical-align: top;\n",
       "    }\n",
       "\n",
       "    .dataframe thead th {\n",
       "        text-align: right;\n",
       "    }\n",
       "</style>\n",
       "<table border=\"1\" class=\"dataframe\">\n",
       "  <thead>\n",
       "    <tr style=\"text-align: right;\">\n",
       "      <th></th>\n",
       "      <th>bedroom</th>\n",
       "      <th>locality</th>\n",
       "      <th>price</th>\n",
       "      <th>area</th>\n",
       "      <th>bathroom</th>\n",
       "      <th>city</th>\n",
       "      <th>price_per_sqft</th>\n",
       "    </tr>\n",
       "  </thead>\n",
       "  <tbody>\n",
       "    <tr>\n",
       "      <th>46109</th>\n",
       "      <td>15.0</td>\n",
       "      <td>Hauz Khas</td>\n",
       "      <td>1011000.0</td>\n",
       "      <td>12221.0</td>\n",
       "      <td>14.0</td>\n",
       "      <td>Delhi</td>\n",
       "      <td>8.272645e+06</td>\n",
       "    </tr>\n",
       "    <tr>\n",
       "      <th>46111</th>\n",
       "      <td>15.0</td>\n",
       "      <td>Hauz Khas</td>\n",
       "      <td>1011000.0</td>\n",
       "      <td>12221.0</td>\n",
       "      <td>14.0</td>\n",
       "      <td>Delhi</td>\n",
       "      <td>8.272645e+06</td>\n",
       "    </tr>\n",
       "    <tr>\n",
       "      <th>87940</th>\n",
       "      <td>15.0</td>\n",
       "      <td>New Friends Colony</td>\n",
       "      <td>1118000.0</td>\n",
       "      <td>15461.0</td>\n",
       "      <td>16.0</td>\n",
       "      <td>Delhi</td>\n",
       "      <td>7.231098e+06</td>\n",
       "    </tr>\n",
       "    <tr>\n",
       "      <th>87950</th>\n",
       "      <td>15.0</td>\n",
       "      <td>New Friends Colony</td>\n",
       "      <td>1118000.0</td>\n",
       "      <td>15461.0</td>\n",
       "      <td>16.0</td>\n",
       "      <td>Delhi</td>\n",
       "      <td>7.231098e+06</td>\n",
       "    </tr>\n",
       "    <tr>\n",
       "      <th>90150</th>\n",
       "      <td>15.0</td>\n",
       "      <td>Niti Bagh</td>\n",
       "      <td>1191000.0</td>\n",
       "      <td>14122.0</td>\n",
       "      <td>16.0</td>\n",
       "      <td>Delhi</td>\n",
       "      <td>8.433650e+06</td>\n",
       "    </tr>\n",
       "    <tr>\n",
       "      <th>91769</th>\n",
       "      <td>15.0</td>\n",
       "      <td>Panchsheel Enclave</td>\n",
       "      <td>818000.0</td>\n",
       "      <td>12921.0</td>\n",
       "      <td>15.0</td>\n",
       "      <td>Delhi</td>\n",
       "      <td>6.330779e+06</td>\n",
       "    </tr>\n",
       "    <tr>\n",
       "      <th>91772</th>\n",
       "      <td>15.0</td>\n",
       "      <td>Panchsheel Enclave</td>\n",
       "      <td>818000.0</td>\n",
       "      <td>12921.0</td>\n",
       "      <td>15.0</td>\n",
       "      <td>Delhi</td>\n",
       "      <td>6.330779e+06</td>\n",
       "    </tr>\n",
       "    <tr>\n",
       "      <th>91957</th>\n",
       "      <td>10.0</td>\n",
       "      <td>Panchsheel Park</td>\n",
       "      <td>1255000.0</td>\n",
       "      <td>12552.0</td>\n",
       "      <td>12.0</td>\n",
       "      <td>Delhi</td>\n",
       "      <td>9.998407e+06</td>\n",
       "    </tr>\n",
       "    <tr>\n",
       "      <th>127317</th>\n",
       "      <td>14.0</td>\n",
       "      <td>Vasant Vihar</td>\n",
       "      <td>1741000.0</td>\n",
       "      <td>18541.0</td>\n",
       "      <td>14.0</td>\n",
       "      <td>Delhi</td>\n",
       "      <td>9.390001e+06</td>\n",
       "    </tr>\n",
       "    <tr>\n",
       "      <th>127330</th>\n",
       "      <td>14.0</td>\n",
       "      <td>Vasant Vihar</td>\n",
       "      <td>1741000.0</td>\n",
       "      <td>18541.0</td>\n",
       "      <td>14.0</td>\n",
       "      <td>Delhi</td>\n",
       "      <td>9.390001e+06</td>\n",
       "    </tr>\n",
       "  </tbody>\n",
       "</table>\n",
       "</div>"
      ],
      "text/plain": [
       "        bedroom            locality      price     area  bathroom   city  \\\n",
       "46109      15.0           Hauz Khas  1011000.0  12221.0      14.0  Delhi   \n",
       "46111      15.0           Hauz Khas  1011000.0  12221.0      14.0  Delhi   \n",
       "87940      15.0  New Friends Colony  1118000.0  15461.0      16.0  Delhi   \n",
       "87950      15.0  New Friends Colony  1118000.0  15461.0      16.0  Delhi   \n",
       "90150      15.0           Niti Bagh  1191000.0  14122.0      16.0  Delhi   \n",
       "91769      15.0  Panchsheel Enclave   818000.0  12921.0      15.0  Delhi   \n",
       "91772      15.0  Panchsheel Enclave   818000.0  12921.0      15.0  Delhi   \n",
       "91957      10.0     Panchsheel Park  1255000.0  12552.0      12.0  Delhi   \n",
       "127317     14.0        Vasant Vihar  1741000.0  18541.0      14.0  Delhi   \n",
       "127330     14.0        Vasant Vihar  1741000.0  18541.0      14.0  Delhi   \n",
       "\n",
       "        price_per_sqft  \n",
       "46109     8.272645e+06  \n",
       "46111     8.272645e+06  \n",
       "87940     7.231098e+06  \n",
       "87950     7.231098e+06  \n",
       "90150     8.433650e+06  \n",
       "91769     6.330779e+06  \n",
       "91772     6.330779e+06  \n",
       "91957     9.998407e+06  \n",
       "127317    9.390001e+06  \n",
       "127330    9.390001e+06  "
      ]
     },
     "execution_count": 42,
     "metadata": {},
     "output_type": "execute_result"
    }
   ],
   "source": [
    "df8[df8.bathroom>10]"
   ]
  },
  {
   "cell_type": "code",
   "execution_count": 43,
   "id": "1c398f9b",
   "metadata": {},
   "outputs": [
    {
     "data": {
      "text/html": [
       "<div>\n",
       "<style scoped>\n",
       "    .dataframe tbody tr th:only-of-type {\n",
       "        vertical-align: middle;\n",
       "    }\n",
       "\n",
       "    .dataframe tbody tr th {\n",
       "        vertical-align: top;\n",
       "    }\n",
       "\n",
       "    .dataframe thead th {\n",
       "        text-align: right;\n",
       "    }\n",
       "</style>\n",
       "<table border=\"1\" class=\"dataframe\">\n",
       "  <thead>\n",
       "    <tr style=\"text-align: right;\">\n",
       "      <th></th>\n",
       "      <th>bedroom</th>\n",
       "      <th>locality</th>\n",
       "      <th>price</th>\n",
       "      <th>area</th>\n",
       "      <th>bathroom</th>\n",
       "      <th>city</th>\n",
       "      <th>price_per_sqft</th>\n",
       "    </tr>\n",
       "  </thead>\n",
       "  <tbody>\n",
       "    <tr>\n",
       "      <th>3513</th>\n",
       "      <td>1.0</td>\n",
       "      <td>Andheri East</td>\n",
       "      <td>20000.0</td>\n",
       "      <td>400.0</td>\n",
       "      <td>4.0</td>\n",
       "      <td>Mumbai</td>\n",
       "      <td>5.000000e+06</td>\n",
       "    </tr>\n",
       "    <tr>\n",
       "      <th>5300</th>\n",
       "      <td>1.0</td>\n",
       "      <td>Andheri East</td>\n",
       "      <td>20000.0</td>\n",
       "      <td>400.0</td>\n",
       "      <td>4.0</td>\n",
       "      <td>Mumbai</td>\n",
       "      <td>5.000000e+06</td>\n",
       "    </tr>\n",
       "    <tr>\n",
       "      <th>10267</th>\n",
       "      <td>2.0</td>\n",
       "      <td>Bandlaguda Jagir</td>\n",
       "      <td>12000.0</td>\n",
       "      <td>1060.0</td>\n",
       "      <td>5.0</td>\n",
       "      <td>Hyderabad</td>\n",
       "      <td>1.132075e+06</td>\n",
       "    </tr>\n",
       "    <tr>\n",
       "      <th>17738</th>\n",
       "      <td>5.0</td>\n",
       "      <td>Bodakdev</td>\n",
       "      <td>130000.0</td>\n",
       "      <td>5436.0</td>\n",
       "      <td>8.0</td>\n",
       "      <td>Ahmedabad</td>\n",
       "      <td>2.391464e+06</td>\n",
       "    </tr>\n",
       "    <tr>\n",
       "      <th>27125</th>\n",
       "      <td>3.0</td>\n",
       "      <td>Chetpet</td>\n",
       "      <td>40000.0</td>\n",
       "      <td>1654.0</td>\n",
       "      <td>6.0</td>\n",
       "      <td>Chennai</td>\n",
       "      <td>2.418380e+06</td>\n",
       "    </tr>\n",
       "    <tr>\n",
       "      <th>27126</th>\n",
       "      <td>3.0</td>\n",
       "      <td>Chetpet</td>\n",
       "      <td>40000.0</td>\n",
       "      <td>1654.0</td>\n",
       "      <td>6.0</td>\n",
       "      <td>Chennai</td>\n",
       "      <td>2.418380e+06</td>\n",
       "    </tr>\n",
       "    <tr>\n",
       "      <th>42184</th>\n",
       "      <td>3.0</td>\n",
       "      <td>Greater kailash 1</td>\n",
       "      <td>80000.0</td>\n",
       "      <td>1872.0</td>\n",
       "      <td>6.0</td>\n",
       "      <td>Delhi</td>\n",
       "      <td>4.273504e+06</td>\n",
       "    </tr>\n",
       "    <tr>\n",
       "      <th>47491</th>\n",
       "      <td>3.0</td>\n",
       "      <td>Hinjewadi</td>\n",
       "      <td>26000.0</td>\n",
       "      <td>1250.0</td>\n",
       "      <td>6.0</td>\n",
       "      <td>Pune</td>\n",
       "      <td>2.080000e+06</td>\n",
       "    </tr>\n",
       "    <tr>\n",
       "      <th>47837</th>\n",
       "      <td>4.0</td>\n",
       "      <td>Hitech City</td>\n",
       "      <td>120000.0</td>\n",
       "      <td>4761.0</td>\n",
       "      <td>7.0</td>\n",
       "      <td>Hyderabad</td>\n",
       "      <td>2.520479e+06</td>\n",
       "    </tr>\n",
       "    <tr>\n",
       "      <th>52183</th>\n",
       "      <td>4.0</td>\n",
       "      <td>Juhu</td>\n",
       "      <td>400000.0</td>\n",
       "      <td>3500.0</td>\n",
       "      <td>7.0</td>\n",
       "      <td>Mumbai</td>\n",
       "      <td>1.142857e+07</td>\n",
       "    </tr>\n",
       "    <tr>\n",
       "      <th>60827</th>\n",
       "      <td>2.0</td>\n",
       "      <td>Kaval Byrasandra</td>\n",
       "      <td>19000.0</td>\n",
       "      <td>1200.0</td>\n",
       "      <td>5.0</td>\n",
       "      <td>Bangalore</td>\n",
       "      <td>1.583333e+06</td>\n",
       "    </tr>\n",
       "    <tr>\n",
       "      <th>69855</th>\n",
       "      <td>2.0</td>\n",
       "      <td>Krishnarajapura</td>\n",
       "      <td>23000.0</td>\n",
       "      <td>1455.0</td>\n",
       "      <td>5.0</td>\n",
       "      <td>Bangalore</td>\n",
       "      <td>1.580756e+06</td>\n",
       "    </tr>\n",
       "    <tr>\n",
       "      <th>74271</th>\n",
       "      <td>2.0</td>\n",
       "      <td>Mahalaxmi</td>\n",
       "      <td>165000.0</td>\n",
       "      <td>2000.0</td>\n",
       "      <td>5.0</td>\n",
       "      <td>Mumbai</td>\n",
       "      <td>8.250000e+06</td>\n",
       "    </tr>\n",
       "    <tr>\n",
       "      <th>82710</th>\n",
       "      <td>3.0</td>\n",
       "      <td>Nagarbhavi</td>\n",
       "      <td>29750.0</td>\n",
       "      <td>1750.0</td>\n",
       "      <td>6.0</td>\n",
       "      <td>Bangalore</td>\n",
       "      <td>1.700000e+06</td>\n",
       "    </tr>\n",
       "    <tr>\n",
       "      <th>82738</th>\n",
       "      <td>3.0</td>\n",
       "      <td>Nagarbhavi</td>\n",
       "      <td>29750.0</td>\n",
       "      <td>1750.0</td>\n",
       "      <td>6.0</td>\n",
       "      <td>Bangalore</td>\n",
       "      <td>1.700000e+06</td>\n",
       "    </tr>\n",
       "    <tr>\n",
       "      <th>88535</th>\n",
       "      <td>3.0</td>\n",
       "      <td>New Town</td>\n",
       "      <td>40000.0</td>\n",
       "      <td>2010.0</td>\n",
       "      <td>6.0</td>\n",
       "      <td>Kolkata</td>\n",
       "      <td>1.990050e+06</td>\n",
       "    </tr>\n",
       "    <tr>\n",
       "      <th>88541</th>\n",
       "      <td>3.0</td>\n",
       "      <td>New Town</td>\n",
       "      <td>40000.0</td>\n",
       "      <td>2010.0</td>\n",
       "      <td>6.0</td>\n",
       "      <td>Kolkata</td>\n",
       "      <td>1.990050e+06</td>\n",
       "    </tr>\n",
       "    <tr>\n",
       "      <th>88545</th>\n",
       "      <td>3.0</td>\n",
       "      <td>New Town</td>\n",
       "      <td>40000.0</td>\n",
       "      <td>2010.0</td>\n",
       "      <td>6.0</td>\n",
       "      <td>Kolkata</td>\n",
       "      <td>1.990050e+06</td>\n",
       "    </tr>\n",
       "    <tr>\n",
       "      <th>89637</th>\n",
       "      <td>3.0</td>\n",
       "      <td>New Town</td>\n",
       "      <td>30000.0</td>\n",
       "      <td>1800.0</td>\n",
       "      <td>6.0</td>\n",
       "      <td>Kolkata</td>\n",
       "      <td>1.666667e+06</td>\n",
       "    </tr>\n",
       "    <tr>\n",
       "      <th>90346</th>\n",
       "      <td>3.0</td>\n",
       "      <td>Nizampet</td>\n",
       "      <td>20000.0</td>\n",
       "      <td>1395.0</td>\n",
       "      <td>6.0</td>\n",
       "      <td>Hyderabad</td>\n",
       "      <td>1.433692e+06</td>\n",
       "    </tr>\n",
       "    <tr>\n",
       "      <th>95912</th>\n",
       "      <td>2.0</td>\n",
       "      <td>Pitampura</td>\n",
       "      <td>24500.0</td>\n",
       "      <td>1000.0</td>\n",
       "      <td>5.0</td>\n",
       "      <td>Delhi</td>\n",
       "      <td>2.450000e+06</td>\n",
       "    </tr>\n",
       "    <tr>\n",
       "      <th>97274</th>\n",
       "      <td>3.0</td>\n",
       "      <td>Powai</td>\n",
       "      <td>125000.0</td>\n",
       "      <td>2070.0</td>\n",
       "      <td>6.0</td>\n",
       "      <td>Mumbai</td>\n",
       "      <td>6.038647e+06</td>\n",
       "    </tr>\n",
       "    <tr>\n",
       "      <th>97281</th>\n",
       "      <td>3.0</td>\n",
       "      <td>Powai</td>\n",
       "      <td>120000.0</td>\n",
       "      <td>2070.0</td>\n",
       "      <td>6.0</td>\n",
       "      <td>Mumbai</td>\n",
       "      <td>5.797101e+06</td>\n",
       "    </tr>\n",
       "    <tr>\n",
       "      <th>101924</th>\n",
       "      <td>3.0</td>\n",
       "      <td>Sadiq Nagar</td>\n",
       "      <td>130000.0</td>\n",
       "      <td>2000.0</td>\n",
       "      <td>6.0</td>\n",
       "      <td>Delhi</td>\n",
       "      <td>6.500000e+06</td>\n",
       "    </tr>\n",
       "    <tr>\n",
       "      <th>102062</th>\n",
       "      <td>3.0</td>\n",
       "      <td>Safdarjung Enclave</td>\n",
       "      <td>100000.0</td>\n",
       "      <td>1800.0</td>\n",
       "      <td>6.0</td>\n",
       "      <td>Delhi</td>\n",
       "      <td>5.555556e+06</td>\n",
       "    </tr>\n",
       "    <tr>\n",
       "      <th>110011</th>\n",
       "      <td>4.0</td>\n",
       "      <td>Sector 19 Dwarka</td>\n",
       "      <td>60000.0</td>\n",
       "      <td>2500.0</td>\n",
       "      <td>7.0</td>\n",
       "      <td>Delhi</td>\n",
       "      <td>2.400000e+06</td>\n",
       "    </tr>\n",
       "    <tr>\n",
       "      <th>110012</th>\n",
       "      <td>4.0</td>\n",
       "      <td>Sector 19 Dwarka</td>\n",
       "      <td>60000.0</td>\n",
       "      <td>2500.0</td>\n",
       "      <td>7.0</td>\n",
       "      <td>Delhi</td>\n",
       "      <td>2.400000e+06</td>\n",
       "    </tr>\n",
       "    <tr>\n",
       "      <th>111338</th>\n",
       "      <td>4.0</td>\n",
       "      <td>Sector 6 Dwarka</td>\n",
       "      <td>50000.0</td>\n",
       "      <td>2400.0</td>\n",
       "      <td>7.0</td>\n",
       "      <td>Delhi</td>\n",
       "      <td>2.083333e+06</td>\n",
       "    </tr>\n",
       "    <tr>\n",
       "      <th>111341</th>\n",
       "      <td>4.0</td>\n",
       "      <td>Sector 6 Dwarka</td>\n",
       "      <td>50000.0</td>\n",
       "      <td>2500.0</td>\n",
       "      <td>7.0</td>\n",
       "      <td>Delhi</td>\n",
       "      <td>2.000000e+06</td>\n",
       "    </tr>\n",
       "    <tr>\n",
       "      <th>116835</th>\n",
       "      <td>3.0</td>\n",
       "      <td>T Nagar</td>\n",
       "      <td>40000.0</td>\n",
       "      <td>1600.0</td>\n",
       "      <td>6.0</td>\n",
       "      <td>Chennai</td>\n",
       "      <td>2.500000e+06</td>\n",
       "    </tr>\n",
       "    <tr>\n",
       "      <th>121019</th>\n",
       "      <td>2.0</td>\n",
       "      <td>Thane West</td>\n",
       "      <td>24000.0</td>\n",
       "      <td>880.0</td>\n",
       "      <td>5.0</td>\n",
       "      <td>Mumbai</td>\n",
       "      <td>2.727273e+06</td>\n",
       "    </tr>\n",
       "    <tr>\n",
       "      <th>124855</th>\n",
       "      <td>1.0</td>\n",
       "      <td>Urapakkam</td>\n",
       "      <td>10000.0</td>\n",
       "      <td>1200.0</td>\n",
       "      <td>4.0</td>\n",
       "      <td>Chennai</td>\n",
       "      <td>8.333333e+05</td>\n",
       "    </tr>\n",
       "    <tr>\n",
       "      <th>129428</th>\n",
       "      <td>3.0</td>\n",
       "      <td>Ville Parle East</td>\n",
       "      <td>110000.0</td>\n",
       "      <td>1500.0</td>\n",
       "      <td>6.0</td>\n",
       "      <td>Mumbai</td>\n",
       "      <td>7.333333e+06</td>\n",
       "    </tr>\n",
       "    <tr>\n",
       "      <th>136717</th>\n",
       "      <td>3.0</td>\n",
       "      <td>Worli</td>\n",
       "      <td>300000.0</td>\n",
       "      <td>3150.0</td>\n",
       "      <td>6.0</td>\n",
       "      <td>Mumbai</td>\n",
       "      <td>9.523810e+06</td>\n",
       "    </tr>\n",
       "  </tbody>\n",
       "</table>\n",
       "</div>"
      ],
      "text/plain": [
       "        bedroom            locality     price    area  bathroom       city  \\\n",
       "3513        1.0        Andheri East   20000.0   400.0       4.0     Mumbai   \n",
       "5300        1.0        Andheri East   20000.0   400.0       4.0     Mumbai   \n",
       "10267       2.0    Bandlaguda Jagir   12000.0  1060.0       5.0  Hyderabad   \n",
       "17738       5.0            Bodakdev  130000.0  5436.0       8.0  Ahmedabad   \n",
       "27125       3.0             Chetpet   40000.0  1654.0       6.0    Chennai   \n",
       "27126       3.0             Chetpet   40000.0  1654.0       6.0    Chennai   \n",
       "42184       3.0   Greater kailash 1   80000.0  1872.0       6.0      Delhi   \n",
       "47491       3.0           Hinjewadi   26000.0  1250.0       6.0       Pune   \n",
       "47837       4.0         Hitech City  120000.0  4761.0       7.0  Hyderabad   \n",
       "52183       4.0                Juhu  400000.0  3500.0       7.0     Mumbai   \n",
       "60827       2.0    Kaval Byrasandra   19000.0  1200.0       5.0  Bangalore   \n",
       "69855       2.0     Krishnarajapura   23000.0  1455.0       5.0  Bangalore   \n",
       "74271       2.0           Mahalaxmi  165000.0  2000.0       5.0     Mumbai   \n",
       "82710       3.0          Nagarbhavi   29750.0  1750.0       6.0  Bangalore   \n",
       "82738       3.0          Nagarbhavi   29750.0  1750.0       6.0  Bangalore   \n",
       "88535       3.0            New Town   40000.0  2010.0       6.0    Kolkata   \n",
       "88541       3.0            New Town   40000.0  2010.0       6.0    Kolkata   \n",
       "88545       3.0            New Town   40000.0  2010.0       6.0    Kolkata   \n",
       "89637       3.0            New Town   30000.0  1800.0       6.0    Kolkata   \n",
       "90346       3.0            Nizampet   20000.0  1395.0       6.0  Hyderabad   \n",
       "95912       2.0           Pitampura   24500.0  1000.0       5.0      Delhi   \n",
       "97274       3.0               Powai  125000.0  2070.0       6.0     Mumbai   \n",
       "97281       3.0               Powai  120000.0  2070.0       6.0     Mumbai   \n",
       "101924      3.0         Sadiq Nagar  130000.0  2000.0       6.0      Delhi   \n",
       "102062      3.0  Safdarjung Enclave  100000.0  1800.0       6.0      Delhi   \n",
       "110011      4.0    Sector 19 Dwarka   60000.0  2500.0       7.0      Delhi   \n",
       "110012      4.0    Sector 19 Dwarka   60000.0  2500.0       7.0      Delhi   \n",
       "111338      4.0     Sector 6 Dwarka   50000.0  2400.0       7.0      Delhi   \n",
       "111341      4.0     Sector 6 Dwarka   50000.0  2500.0       7.0      Delhi   \n",
       "116835      3.0             T Nagar   40000.0  1600.0       6.0    Chennai   \n",
       "121019      2.0          Thane West   24000.0   880.0       5.0     Mumbai   \n",
       "124855      1.0           Urapakkam   10000.0  1200.0       4.0    Chennai   \n",
       "129428      3.0    Ville Parle East  110000.0  1500.0       6.0     Mumbai   \n",
       "136717      3.0               Worli  300000.0  3150.0       6.0     Mumbai   \n",
       "\n",
       "        price_per_sqft  \n",
       "3513      5.000000e+06  \n",
       "5300      5.000000e+06  \n",
       "10267     1.132075e+06  \n",
       "17738     2.391464e+06  \n",
       "27125     2.418380e+06  \n",
       "27126     2.418380e+06  \n",
       "42184     4.273504e+06  \n",
       "47491     2.080000e+06  \n",
       "47837     2.520479e+06  \n",
       "52183     1.142857e+07  \n",
       "60827     1.583333e+06  \n",
       "69855     1.580756e+06  \n",
       "74271     8.250000e+06  \n",
       "82710     1.700000e+06  \n",
       "82738     1.700000e+06  \n",
       "88535     1.990050e+06  \n",
       "88541     1.990050e+06  \n",
       "88545     1.990050e+06  \n",
       "89637     1.666667e+06  \n",
       "90346     1.433692e+06  \n",
       "95912     2.450000e+06  \n",
       "97274     6.038647e+06  \n",
       "97281     5.797101e+06  \n",
       "101924    6.500000e+06  \n",
       "102062    5.555556e+06  \n",
       "110011    2.400000e+06  \n",
       "110012    2.400000e+06  \n",
       "111338    2.083333e+06  \n",
       "111341    2.000000e+06  \n",
       "116835    2.500000e+06  \n",
       "121019    2.727273e+06  \n",
       "124855    8.333333e+05  \n",
       "129428    7.333333e+06  \n",
       "136717    9.523810e+06  "
      ]
     },
     "execution_count": 43,
     "metadata": {},
     "output_type": "execute_result"
    }
   ],
   "source": [
    "#Removing data entries which have number of bathrooms greater than two more than the number of bedrooms\n",
    "#As it is unusual to have such a property in reality\n",
    "\n",
    "df8[df8.bathroom>df8.bedroom+2]"
   ]
  },
  {
   "cell_type": "code",
   "execution_count": 44,
   "id": "b9f8b306",
   "metadata": {},
   "outputs": [
    {
     "data": {
      "text/plain": [
       "(92556, 7)"
      ]
     },
     "execution_count": 44,
     "metadata": {},
     "output_type": "execute_result"
    }
   ],
   "source": [
    "df9 = df8[df8.bathroom<df8.bedroom+2]\n",
    "df9.shape"
   ]
  },
  {
   "cell_type": "code",
   "execution_count": 45,
   "id": "ff35ed34",
   "metadata": {},
   "outputs": [
    {
     "data": {
      "text/html": [
       "<div>\n",
       "<style scoped>\n",
       "    .dataframe tbody tr th:only-of-type {\n",
       "        vertical-align: middle;\n",
       "    }\n",
       "\n",
       "    .dataframe tbody tr th {\n",
       "        vertical-align: top;\n",
       "    }\n",
       "\n",
       "    .dataframe thead th {\n",
       "        text-align: right;\n",
       "    }\n",
       "</style>\n",
       "<table border=\"1\" class=\"dataframe\">\n",
       "  <thead>\n",
       "    <tr style=\"text-align: right;\">\n",
       "      <th></th>\n",
       "      <th>bedroom</th>\n",
       "      <th>locality</th>\n",
       "      <th>price</th>\n",
       "      <th>area</th>\n",
       "      <th>bathroom</th>\n",
       "      <th>city</th>\n",
       "      <th>price_per_sqft</th>\n",
       "    </tr>\n",
       "  </thead>\n",
       "  <tbody>\n",
       "    <tr>\n",
       "      <th>11123</th>\n",
       "      <td>2.0</td>\n",
       "      <td>Bandra West</td>\n",
       "      <td>95000.0</td>\n",
       "      <td>800.0</td>\n",
       "      <td>2.0</td>\n",
       "      <td>Mumbai</td>\n",
       "      <td>1.187500e+07</td>\n",
       "    </tr>\n",
       "    <tr>\n",
       "      <th>36651</th>\n",
       "      <td>1.0</td>\n",
       "      <td>Ghansoli</td>\n",
       "      <td>9700.0</td>\n",
       "      <td>500.0</td>\n",
       "      <td>2.0</td>\n",
       "      <td>Mumbai</td>\n",
       "      <td>1.940000e+06</td>\n",
       "    </tr>\n",
       "    <tr>\n",
       "      <th>84161</th>\n",
       "      <td>2.0</td>\n",
       "      <td>Naranpuraa</td>\n",
       "      <td>20000.0</td>\n",
       "      <td>1280.0</td>\n",
       "      <td>2.0</td>\n",
       "      <td>Ahmedabad</td>\n",
       "      <td>1.562500e+06</td>\n",
       "    </tr>\n",
       "    <tr>\n",
       "      <th>35696</th>\n",
       "      <td>1.0</td>\n",
       "      <td>Gautam Nagar</td>\n",
       "      <td>11000.0</td>\n",
       "      <td>450.0</td>\n",
       "      <td>1.0</td>\n",
       "      <td>Delhi</td>\n",
       "      <td>2.444444e+06</td>\n",
       "    </tr>\n",
       "    <tr>\n",
       "      <th>72290</th>\n",
       "      <td>2.0</td>\n",
       "      <td>Lower Parel</td>\n",
       "      <td>120000.0</td>\n",
       "      <td>1250.0</td>\n",
       "      <td>2.0</td>\n",
       "      <td>Mumbai</td>\n",
       "      <td>9.600000e+06</td>\n",
       "    </tr>\n",
       "  </tbody>\n",
       "</table>\n",
       "</div>"
      ],
      "text/plain": [
       "       bedroom      locality     price    area  bathroom       city  \\\n",
       "11123      2.0   Bandra West   95000.0   800.0       2.0     Mumbai   \n",
       "36651      1.0      Ghansoli    9700.0   500.0       2.0     Mumbai   \n",
       "84161      2.0    Naranpuraa   20000.0  1280.0       2.0  Ahmedabad   \n",
       "35696      1.0  Gautam Nagar   11000.0   450.0       1.0      Delhi   \n",
       "72290      2.0   Lower Parel  120000.0  1250.0       2.0     Mumbai   \n",
       "\n",
       "       price_per_sqft  \n",
       "11123    1.187500e+07  \n",
       "36651    1.940000e+06  \n",
       "84161    1.562500e+06  \n",
       "35696    2.444444e+06  \n",
       "72290    9.600000e+06  "
      ]
     },
     "execution_count": 45,
     "metadata": {},
     "output_type": "execute_result"
    }
   ],
   "source": [
    "df9.sample(n=5)"
   ]
  },
  {
   "cell_type": "code",
   "execution_count": 116,
   "id": "bbc2c0c8",
   "metadata": {},
   "outputs": [
    {
     "data": {
      "text/html": [
       "<div>\n",
       "<style scoped>\n",
       "    .dataframe tbody tr th:only-of-type {\n",
       "        vertical-align: middle;\n",
       "    }\n",
       "\n",
       "    .dataframe tbody tr th {\n",
       "        vertical-align: top;\n",
       "    }\n",
       "\n",
       "    .dataframe thead th {\n",
       "        text-align: right;\n",
       "    }\n",
       "</style>\n",
       "<table border=\"1\" class=\"dataframe\">\n",
       "  <thead>\n",
       "    <tr style=\"text-align: right;\">\n",
       "      <th></th>\n",
       "      <th>bedroom</th>\n",
       "      <th>locality</th>\n",
       "      <th>price</th>\n",
       "      <th>area</th>\n",
       "      <th>bathroom</th>\n",
       "    </tr>\n",
       "  </thead>\n",
       "  <tbody>\n",
       "    <tr>\n",
       "      <th>641</th>\n",
       "      <td>1.0</td>\n",
       "      <td>Airoli</td>\n",
       "      <td>16000.0</td>\n",
       "      <td>700.0</td>\n",
       "      <td>2.0</td>\n",
       "    </tr>\n",
       "    <tr>\n",
       "      <th>58399</th>\n",
       "      <td>3.0</td>\n",
       "      <td>Kandivali West</td>\n",
       "      <td>65000.0</td>\n",
       "      <td>1570.0</td>\n",
       "      <td>3.0</td>\n",
       "    </tr>\n",
       "    <tr>\n",
       "      <th>91936</th>\n",
       "      <td>4.0</td>\n",
       "      <td>Panchsheel Park</td>\n",
       "      <td>546000.0</td>\n",
       "      <td>5562.0</td>\n",
       "      <td>4.0</td>\n",
       "    </tr>\n",
       "    <tr>\n",
       "      <th>112503</th>\n",
       "      <td>2.0</td>\n",
       "      <td>Shahdara</td>\n",
       "      <td>13000.0</td>\n",
       "      <td>700.0</td>\n",
       "      <td>2.0</td>\n",
       "    </tr>\n",
       "    <tr>\n",
       "      <th>60113</th>\n",
       "      <td>1.0</td>\n",
       "      <td>Kasarwadi</td>\n",
       "      <td>11000.0</td>\n",
       "      <td>600.0</td>\n",
       "      <td>1.0</td>\n",
       "    </tr>\n",
       "  </tbody>\n",
       "</table>\n",
       "</div>"
      ],
      "text/plain": [
       "        bedroom         locality     price    area  bathroom\n",
       "641         1.0           Airoli   16000.0   700.0       2.0\n",
       "58399       3.0   Kandivali West   65000.0  1570.0       3.0\n",
       "91936       4.0  Panchsheel Park  546000.0  5562.0       4.0\n",
       "112503      2.0         Shahdara   13000.0   700.0       2.0\n",
       "60113       1.0        Kasarwadi   11000.0   600.0       1.0"
      ]
     },
     "execution_count": 116,
     "metadata": {},
     "output_type": "execute_result"
    }
   ],
   "source": [
    "df10 = df9.drop(['city','price_per_sqft'],axis='columns')\n",
    "df10.sample(n=5)"
   ]
  },
  {
   "cell_type": "markdown",
   "id": "4d9e3d82",
   "metadata": {},
   "source": [
    "# One Hot Encoding on Locality"
   ]
  },
  {
   "cell_type": "code",
   "execution_count": 117,
   "id": "8d0700be",
   "metadata": {},
   "outputs": [
    {
     "data": {
      "text/html": [
       "<div>\n",
       "<style scoped>\n",
       "    .dataframe tbody tr th:only-of-type {\n",
       "        vertical-align: middle;\n",
       "    }\n",
       "\n",
       "    .dataframe tbody tr th {\n",
       "        vertical-align: top;\n",
       "    }\n",
       "\n",
       "    .dataframe thead th {\n",
       "        text-align: right;\n",
       "    }\n",
       "</style>\n",
       "<table border=\"1\" class=\"dataframe\">\n",
       "  <thead>\n",
       "    <tr style=\"text-align: right;\">\n",
       "      <th></th>\n",
       "      <th>25th B Main Rd</th>\n",
       "      <th>5th Phase</th>\n",
       "      <th>AS Rao Nagar</th>\n",
       "      <th>Abbigere</th>\n",
       "      <th>Abids</th>\n",
       "      <th>Abul Fazal Enclave Jamia Nagar</th>\n",
       "      <th>Adambakam</th>\n",
       "      <th>Adarsh Nagar</th>\n",
       "      <th>Additional M.I.D.C</th>\n",
       "      <th>Adikmet</th>\n",
       "      <th>...</th>\n",
       "      <th>raidurgam</th>\n",
       "      <th>rohini sector 5</th>\n",
       "      <th>sahakara nagar</th>\n",
       "      <th>salt lake sec iii</th>\n",
       "      <th>south dum dum</th>\n",
       "      <th>tambaram west</th>\n",
       "      <th>thakur village kandivali east</th>\n",
       "      <th>vikaspuri</th>\n",
       "      <th>vile parle west</th>\n",
       "      <th>worli sea Fase</th>\n",
       "    </tr>\n",
       "  </thead>\n",
       "  <tbody>\n",
       "    <tr>\n",
       "      <th>0</th>\n",
       "      <td>1</td>\n",
       "      <td>0</td>\n",
       "      <td>0</td>\n",
       "      <td>0</td>\n",
       "      <td>0</td>\n",
       "      <td>0</td>\n",
       "      <td>0</td>\n",
       "      <td>0</td>\n",
       "      <td>0</td>\n",
       "      <td>0</td>\n",
       "      <td>...</td>\n",
       "      <td>0</td>\n",
       "      <td>0</td>\n",
       "      <td>0</td>\n",
       "      <td>0</td>\n",
       "      <td>0</td>\n",
       "      <td>0</td>\n",
       "      <td>0</td>\n",
       "      <td>0</td>\n",
       "      <td>0</td>\n",
       "      <td>0</td>\n",
       "    </tr>\n",
       "    <tr>\n",
       "      <th>1</th>\n",
       "      <td>1</td>\n",
       "      <td>0</td>\n",
       "      <td>0</td>\n",
       "      <td>0</td>\n",
       "      <td>0</td>\n",
       "      <td>0</td>\n",
       "      <td>0</td>\n",
       "      <td>0</td>\n",
       "      <td>0</td>\n",
       "      <td>0</td>\n",
       "      <td>...</td>\n",
       "      <td>0</td>\n",
       "      <td>0</td>\n",
       "      <td>0</td>\n",
       "      <td>0</td>\n",
       "      <td>0</td>\n",
       "      <td>0</td>\n",
       "      <td>0</td>\n",
       "      <td>0</td>\n",
       "      <td>0</td>\n",
       "      <td>0</td>\n",
       "    </tr>\n",
       "    <tr>\n",
       "      <th>2</th>\n",
       "      <td>1</td>\n",
       "      <td>0</td>\n",
       "      <td>0</td>\n",
       "      <td>0</td>\n",
       "      <td>0</td>\n",
       "      <td>0</td>\n",
       "      <td>0</td>\n",
       "      <td>0</td>\n",
       "      <td>0</td>\n",
       "      <td>0</td>\n",
       "      <td>...</td>\n",
       "      <td>0</td>\n",
       "      <td>0</td>\n",
       "      <td>0</td>\n",
       "      <td>0</td>\n",
       "      <td>0</td>\n",
       "      <td>0</td>\n",
       "      <td>0</td>\n",
       "      <td>0</td>\n",
       "      <td>0</td>\n",
       "      <td>0</td>\n",
       "    </tr>\n",
       "  </tbody>\n",
       "</table>\n",
       "<p>3 rows × 1229 columns</p>\n",
       "</div>"
      ],
      "text/plain": [
       "   25th B Main Rd  5th Phase  AS Rao Nagar  Abbigere  Abids  \\\n",
       "0               1          0             0         0      0   \n",
       "1               1          0             0         0      0   \n",
       "2               1          0             0         0      0   \n",
       "\n",
       "   Abul Fazal Enclave Jamia Nagar  Adambakam  Adarsh Nagar  \\\n",
       "0                               0          0             0   \n",
       "1                               0          0             0   \n",
       "2                               0          0             0   \n",
       "\n",
       "   Additional M.I.D.C  Adikmet  ...  raidurgam  rohini sector 5  \\\n",
       "0                   0        0  ...          0                0   \n",
       "1                   0        0  ...          0                0   \n",
       "2                   0        0  ...          0                0   \n",
       "\n",
       "   sahakara nagar  salt lake sec iii  south dum dum  tambaram west  \\\n",
       "0               0                  0              0              0   \n",
       "1               0                  0              0              0   \n",
       "2               0                  0              0              0   \n",
       "\n",
       "   thakur village kandivali east  vikaspuri  vile parle west  worli sea Fase  \n",
       "0                              0          0                0               0  \n",
       "1                              0          0                0               0  \n",
       "2                              0          0                0               0  \n",
       "\n",
       "[3 rows x 1229 columns]"
      ]
     },
     "execution_count": 117,
     "metadata": {},
     "output_type": "execute_result"
    }
   ],
   "source": [
    "dummies = pd.get_dummies(df10.locality)\n",
    "dummies.head(3)"
   ]
  },
  {
   "cell_type": "code",
   "execution_count": 119,
   "id": "0eebc570",
   "metadata": {},
   "outputs": [
    {
     "data": {
      "text/html": [
       "<div>\n",
       "<style scoped>\n",
       "    .dataframe tbody tr th:only-of-type {\n",
       "        vertical-align: middle;\n",
       "    }\n",
       "\n",
       "    .dataframe tbody tr th {\n",
       "        vertical-align: top;\n",
       "    }\n",
       "\n",
       "    .dataframe thead th {\n",
       "        text-align: right;\n",
       "    }\n",
       "</style>\n",
       "<table border=\"1\" class=\"dataframe\">\n",
       "  <thead>\n",
       "    <tr style=\"text-align: right;\">\n",
       "      <th></th>\n",
       "      <th>bedroom</th>\n",
       "      <th>locality</th>\n",
       "      <th>price</th>\n",
       "      <th>area</th>\n",
       "      <th>bathroom</th>\n",
       "      <th>25th B Main Rd</th>\n",
       "      <th>5th Phase</th>\n",
       "      <th>AS Rao Nagar</th>\n",
       "      <th>Abbigere</th>\n",
       "      <th>Abids</th>\n",
       "      <th>...</th>\n",
       "      <th>raidurgam</th>\n",
       "      <th>rohini sector 5</th>\n",
       "      <th>sahakara nagar</th>\n",
       "      <th>salt lake sec iii</th>\n",
       "      <th>south dum dum</th>\n",
       "      <th>tambaram west</th>\n",
       "      <th>thakur village kandivali east</th>\n",
       "      <th>vikaspuri</th>\n",
       "      <th>vile parle west</th>\n",
       "      <th>worli sea Fase</th>\n",
       "    </tr>\n",
       "  </thead>\n",
       "  <tbody>\n",
       "    <tr>\n",
       "      <th>0</th>\n",
       "      <td>1.0</td>\n",
       "      <td>25th B Main Rd</td>\n",
       "      <td>18500.0</td>\n",
       "      <td>400.0</td>\n",
       "      <td>1.0</td>\n",
       "      <td>1</td>\n",
       "      <td>0</td>\n",
       "      <td>0</td>\n",
       "      <td>0</td>\n",
       "      <td>0</td>\n",
       "      <td>...</td>\n",
       "      <td>0</td>\n",
       "      <td>0</td>\n",
       "      <td>0</td>\n",
       "      <td>0</td>\n",
       "      <td>0</td>\n",
       "      <td>0</td>\n",
       "      <td>0</td>\n",
       "      <td>0</td>\n",
       "      <td>0</td>\n",
       "      <td>0</td>\n",
       "    </tr>\n",
       "    <tr>\n",
       "      <th>1</th>\n",
       "      <td>1.0</td>\n",
       "      <td>25th B Main Rd</td>\n",
       "      <td>28500.0</td>\n",
       "      <td>600.0</td>\n",
       "      <td>1.0</td>\n",
       "      <td>1</td>\n",
       "      <td>0</td>\n",
       "      <td>0</td>\n",
       "      <td>0</td>\n",
       "      <td>0</td>\n",
       "      <td>...</td>\n",
       "      <td>0</td>\n",
       "      <td>0</td>\n",
       "      <td>0</td>\n",
       "      <td>0</td>\n",
       "      <td>0</td>\n",
       "      <td>0</td>\n",
       "      <td>0</td>\n",
       "      <td>0</td>\n",
       "      <td>0</td>\n",
       "      <td>0</td>\n",
       "    </tr>\n",
       "    <tr>\n",
       "      <th>2</th>\n",
       "      <td>1.0</td>\n",
       "      <td>25th B Main Rd</td>\n",
       "      <td>19500.0</td>\n",
       "      <td>400.0</td>\n",
       "      <td>1.0</td>\n",
       "      <td>1</td>\n",
       "      <td>0</td>\n",
       "      <td>0</td>\n",
       "      <td>0</td>\n",
       "      <td>0</td>\n",
       "      <td>...</td>\n",
       "      <td>0</td>\n",
       "      <td>0</td>\n",
       "      <td>0</td>\n",
       "      <td>0</td>\n",
       "      <td>0</td>\n",
       "      <td>0</td>\n",
       "      <td>0</td>\n",
       "      <td>0</td>\n",
       "      <td>0</td>\n",
       "      <td>0</td>\n",
       "    </tr>\n",
       "    <tr>\n",
       "      <th>3</th>\n",
       "      <td>1.0</td>\n",
       "      <td>25th B Main Rd</td>\n",
       "      <td>18500.0</td>\n",
       "      <td>400.0</td>\n",
       "      <td>1.0</td>\n",
       "      <td>1</td>\n",
       "      <td>0</td>\n",
       "      <td>0</td>\n",
       "      <td>0</td>\n",
       "      <td>0</td>\n",
       "      <td>...</td>\n",
       "      <td>0</td>\n",
       "      <td>0</td>\n",
       "      <td>0</td>\n",
       "      <td>0</td>\n",
       "      <td>0</td>\n",
       "      <td>0</td>\n",
       "      <td>0</td>\n",
       "      <td>0</td>\n",
       "      <td>0</td>\n",
       "      <td>0</td>\n",
       "    </tr>\n",
       "    <tr>\n",
       "      <th>4</th>\n",
       "      <td>1.0</td>\n",
       "      <td>25th B Main Rd</td>\n",
       "      <td>18500.0</td>\n",
       "      <td>400.0</td>\n",
       "      <td>1.0</td>\n",
       "      <td>1</td>\n",
       "      <td>0</td>\n",
       "      <td>0</td>\n",
       "      <td>0</td>\n",
       "      <td>0</td>\n",
       "      <td>...</td>\n",
       "      <td>0</td>\n",
       "      <td>0</td>\n",
       "      <td>0</td>\n",
       "      <td>0</td>\n",
       "      <td>0</td>\n",
       "      <td>0</td>\n",
       "      <td>0</td>\n",
       "      <td>0</td>\n",
       "      <td>0</td>\n",
       "      <td>0</td>\n",
       "    </tr>\n",
       "  </tbody>\n",
       "</table>\n",
       "<p>5 rows × 1233 columns</p>\n",
       "</div>"
      ],
      "text/plain": [
       "   bedroom        locality    price   area  bathroom  25th B Main Rd  \\\n",
       "0      1.0  25th B Main Rd  18500.0  400.0       1.0               1   \n",
       "1      1.0  25th B Main Rd  28500.0  600.0       1.0               1   \n",
       "2      1.0  25th B Main Rd  19500.0  400.0       1.0               1   \n",
       "3      1.0  25th B Main Rd  18500.0  400.0       1.0               1   \n",
       "4      1.0  25th B Main Rd  18500.0  400.0       1.0               1   \n",
       "\n",
       "   5th Phase  AS Rao Nagar  Abbigere  Abids  ...  raidurgam  rohini sector 5  \\\n",
       "0          0             0         0      0  ...          0                0   \n",
       "1          0             0         0      0  ...          0                0   \n",
       "2          0             0         0      0  ...          0                0   \n",
       "3          0             0         0      0  ...          0                0   \n",
       "4          0             0         0      0  ...          0                0   \n",
       "\n",
       "   sahakara nagar  salt lake sec iii  south dum dum  tambaram west  \\\n",
       "0               0                  0              0              0   \n",
       "1               0                  0              0              0   \n",
       "2               0                  0              0              0   \n",
       "3               0                  0              0              0   \n",
       "4               0                  0              0              0   \n",
       "\n",
       "   thakur village kandivali east  vikaspuri  vile parle west  worli sea Fase  \n",
       "0                              0          0                0               0  \n",
       "1                              0          0                0               0  \n",
       "2                              0          0                0               0  \n",
       "3                              0          0                0               0  \n",
       "4                              0          0                0               0  \n",
       "\n",
       "[5 rows x 1233 columns]"
      ]
     },
     "execution_count": 119,
     "metadata": {},
     "output_type": "execute_result"
    }
   ],
   "source": [
    "df11 = pd.concat([df10,dummies.drop('other',axis='columns')],axis='columns')\n",
    "df11.head()"
   ]
  },
  {
   "cell_type": "code",
   "execution_count": 121,
   "id": "48390ae6",
   "metadata": {},
   "outputs": [
    {
     "data": {
      "text/html": [
       "<div>\n",
       "<style scoped>\n",
       "    .dataframe tbody tr th:only-of-type {\n",
       "        vertical-align: middle;\n",
       "    }\n",
       "\n",
       "    .dataframe tbody tr th {\n",
       "        vertical-align: top;\n",
       "    }\n",
       "\n",
       "    .dataframe thead th {\n",
       "        text-align: right;\n",
       "    }\n",
       "</style>\n",
       "<table border=\"1\" class=\"dataframe\">\n",
       "  <thead>\n",
       "    <tr style=\"text-align: right;\">\n",
       "      <th></th>\n",
       "      <th>bedroom</th>\n",
       "      <th>price</th>\n",
       "      <th>area</th>\n",
       "      <th>bathroom</th>\n",
       "      <th>25th B Main Rd</th>\n",
       "      <th>5th Phase</th>\n",
       "      <th>AS Rao Nagar</th>\n",
       "      <th>Abbigere</th>\n",
       "      <th>Abids</th>\n",
       "      <th>Abul Fazal Enclave Jamia Nagar</th>\n",
       "      <th>...</th>\n",
       "      <th>raidurgam</th>\n",
       "      <th>rohini sector 5</th>\n",
       "      <th>sahakara nagar</th>\n",
       "      <th>salt lake sec iii</th>\n",
       "      <th>south dum dum</th>\n",
       "      <th>tambaram west</th>\n",
       "      <th>thakur village kandivali east</th>\n",
       "      <th>vikaspuri</th>\n",
       "      <th>vile parle west</th>\n",
       "      <th>worli sea Fase</th>\n",
       "    </tr>\n",
       "  </thead>\n",
       "  <tbody>\n",
       "    <tr>\n",
       "      <th>0</th>\n",
       "      <td>1.0</td>\n",
       "      <td>18500.0</td>\n",
       "      <td>400.0</td>\n",
       "      <td>1.0</td>\n",
       "      <td>1</td>\n",
       "      <td>0</td>\n",
       "      <td>0</td>\n",
       "      <td>0</td>\n",
       "      <td>0</td>\n",
       "      <td>0</td>\n",
       "      <td>...</td>\n",
       "      <td>0</td>\n",
       "      <td>0</td>\n",
       "      <td>0</td>\n",
       "      <td>0</td>\n",
       "      <td>0</td>\n",
       "      <td>0</td>\n",
       "      <td>0</td>\n",
       "      <td>0</td>\n",
       "      <td>0</td>\n",
       "      <td>0</td>\n",
       "    </tr>\n",
       "    <tr>\n",
       "      <th>1</th>\n",
       "      <td>1.0</td>\n",
       "      <td>28500.0</td>\n",
       "      <td>600.0</td>\n",
       "      <td>1.0</td>\n",
       "      <td>1</td>\n",
       "      <td>0</td>\n",
       "      <td>0</td>\n",
       "      <td>0</td>\n",
       "      <td>0</td>\n",
       "      <td>0</td>\n",
       "      <td>...</td>\n",
       "      <td>0</td>\n",
       "      <td>0</td>\n",
       "      <td>0</td>\n",
       "      <td>0</td>\n",
       "      <td>0</td>\n",
       "      <td>0</td>\n",
       "      <td>0</td>\n",
       "      <td>0</td>\n",
       "      <td>0</td>\n",
       "      <td>0</td>\n",
       "    </tr>\n",
       "    <tr>\n",
       "      <th>2</th>\n",
       "      <td>1.0</td>\n",
       "      <td>19500.0</td>\n",
       "      <td>400.0</td>\n",
       "      <td>1.0</td>\n",
       "      <td>1</td>\n",
       "      <td>0</td>\n",
       "      <td>0</td>\n",
       "      <td>0</td>\n",
       "      <td>0</td>\n",
       "      <td>0</td>\n",
       "      <td>...</td>\n",
       "      <td>0</td>\n",
       "      <td>0</td>\n",
       "      <td>0</td>\n",
       "      <td>0</td>\n",
       "      <td>0</td>\n",
       "      <td>0</td>\n",
       "      <td>0</td>\n",
       "      <td>0</td>\n",
       "      <td>0</td>\n",
       "      <td>0</td>\n",
       "    </tr>\n",
       "    <tr>\n",
       "      <th>3</th>\n",
       "      <td>1.0</td>\n",
       "      <td>18500.0</td>\n",
       "      <td>400.0</td>\n",
       "      <td>1.0</td>\n",
       "      <td>1</td>\n",
       "      <td>0</td>\n",
       "      <td>0</td>\n",
       "      <td>0</td>\n",
       "      <td>0</td>\n",
       "      <td>0</td>\n",
       "      <td>...</td>\n",
       "      <td>0</td>\n",
       "      <td>0</td>\n",
       "      <td>0</td>\n",
       "      <td>0</td>\n",
       "      <td>0</td>\n",
       "      <td>0</td>\n",
       "      <td>0</td>\n",
       "      <td>0</td>\n",
       "      <td>0</td>\n",
       "      <td>0</td>\n",
       "    </tr>\n",
       "    <tr>\n",
       "      <th>4</th>\n",
       "      <td>1.0</td>\n",
       "      <td>18500.0</td>\n",
       "      <td>400.0</td>\n",
       "      <td>1.0</td>\n",
       "      <td>1</td>\n",
       "      <td>0</td>\n",
       "      <td>0</td>\n",
       "      <td>0</td>\n",
       "      <td>0</td>\n",
       "      <td>0</td>\n",
       "      <td>...</td>\n",
       "      <td>0</td>\n",
       "      <td>0</td>\n",
       "      <td>0</td>\n",
       "      <td>0</td>\n",
       "      <td>0</td>\n",
       "      <td>0</td>\n",
       "      <td>0</td>\n",
       "      <td>0</td>\n",
       "      <td>0</td>\n",
       "      <td>0</td>\n",
       "    </tr>\n",
       "  </tbody>\n",
       "</table>\n",
       "<p>5 rows × 1232 columns</p>\n",
       "</div>"
      ],
      "text/plain": [
       "   bedroom    price   area  bathroom  25th B Main Rd  5th Phase  AS Rao Nagar  \\\n",
       "0      1.0  18500.0  400.0       1.0               1          0             0   \n",
       "1      1.0  28500.0  600.0       1.0               1          0             0   \n",
       "2      1.0  19500.0  400.0       1.0               1          0             0   \n",
       "3      1.0  18500.0  400.0       1.0               1          0             0   \n",
       "4      1.0  18500.0  400.0       1.0               1          0             0   \n",
       "\n",
       "   Abbigere  Abids  Abul Fazal Enclave Jamia Nagar  ...  raidurgam  \\\n",
       "0         0      0                               0  ...          0   \n",
       "1         0      0                               0  ...          0   \n",
       "2         0      0                               0  ...          0   \n",
       "3         0      0                               0  ...          0   \n",
       "4         0      0                               0  ...          0   \n",
       "\n",
       "   rohini sector 5  sahakara nagar  salt lake sec iii  south dum dum  \\\n",
       "0                0               0                  0              0   \n",
       "1                0               0                  0              0   \n",
       "2                0               0                  0              0   \n",
       "3                0               0                  0              0   \n",
       "4                0               0                  0              0   \n",
       "\n",
       "   tambaram west  thakur village kandivali east  vikaspuri  vile parle west  \\\n",
       "0              0                              0          0                0   \n",
       "1              0                              0          0                0   \n",
       "2              0                              0          0                0   \n",
       "3              0                              0          0                0   \n",
       "4              0                              0          0                0   \n",
       "\n",
       "   worli sea Fase  \n",
       "0               0  \n",
       "1               0  \n",
       "2               0  \n",
       "3               0  \n",
       "4               0  \n",
       "\n",
       "[5 rows x 1232 columns]"
      ]
     },
     "execution_count": 121,
     "metadata": {},
     "output_type": "execute_result"
    }
   ],
   "source": [
    "df12 = df11.drop('locality',axis='columns')\n",
    "df12.head(5)"
   ]
  },
  {
   "cell_type": "markdown",
   "id": "9a9ac888",
   "metadata": {},
   "source": [
    "# Model Building"
   ]
  },
  {
   "cell_type": "code",
   "execution_count": 122,
   "id": "e95a4ec2",
   "metadata": {},
   "outputs": [
    {
     "data": {
      "text/plain": [
       "(92556, 1232)"
      ]
     },
     "execution_count": 122,
     "metadata": {},
     "output_type": "execute_result"
    }
   ],
   "source": [
    "df12.shape"
   ]
  },
  {
   "cell_type": "code",
   "execution_count": 123,
   "id": "caec8cf8",
   "metadata": {},
   "outputs": [],
   "source": [
    "#df12.to_csv('my_dataset.csv', encoding='utf-8')"
   ]
  },
  {
   "cell_type": "code",
   "execution_count": 124,
   "id": "6b821ed0",
   "metadata": {},
   "outputs": [
    {
     "data": {
      "text/html": [
       "<div>\n",
       "<style scoped>\n",
       "    .dataframe tbody tr th:only-of-type {\n",
       "        vertical-align: middle;\n",
       "    }\n",
       "\n",
       "    .dataframe tbody tr th {\n",
       "        vertical-align: top;\n",
       "    }\n",
       "\n",
       "    .dataframe thead th {\n",
       "        text-align: right;\n",
       "    }\n",
       "</style>\n",
       "<table border=\"1\" class=\"dataframe\">\n",
       "  <thead>\n",
       "    <tr style=\"text-align: right;\">\n",
       "      <th></th>\n",
       "      <th>bedroom</th>\n",
       "      <th>area</th>\n",
       "      <th>bathroom</th>\n",
       "      <th>25th B Main Rd</th>\n",
       "      <th>5th Phase</th>\n",
       "      <th>AS Rao Nagar</th>\n",
       "      <th>Abbigere</th>\n",
       "      <th>Abids</th>\n",
       "      <th>Abul Fazal Enclave Jamia Nagar</th>\n",
       "      <th>Adambakam</th>\n",
       "      <th>...</th>\n",
       "      <th>raidurgam</th>\n",
       "      <th>rohini sector 5</th>\n",
       "      <th>sahakara nagar</th>\n",
       "      <th>salt lake sec iii</th>\n",
       "      <th>south dum dum</th>\n",
       "      <th>tambaram west</th>\n",
       "      <th>thakur village kandivali east</th>\n",
       "      <th>vikaspuri</th>\n",
       "      <th>vile parle west</th>\n",
       "      <th>worli sea Fase</th>\n",
       "    </tr>\n",
       "  </thead>\n",
       "  <tbody>\n",
       "    <tr>\n",
       "      <th>0</th>\n",
       "      <td>1.0</td>\n",
       "      <td>400.0</td>\n",
       "      <td>1.0</td>\n",
       "      <td>1</td>\n",
       "      <td>0</td>\n",
       "      <td>0</td>\n",
       "      <td>0</td>\n",
       "      <td>0</td>\n",
       "      <td>0</td>\n",
       "      <td>0</td>\n",
       "      <td>...</td>\n",
       "      <td>0</td>\n",
       "      <td>0</td>\n",
       "      <td>0</td>\n",
       "      <td>0</td>\n",
       "      <td>0</td>\n",
       "      <td>0</td>\n",
       "      <td>0</td>\n",
       "      <td>0</td>\n",
       "      <td>0</td>\n",
       "      <td>0</td>\n",
       "    </tr>\n",
       "    <tr>\n",
       "      <th>1</th>\n",
       "      <td>1.0</td>\n",
       "      <td>600.0</td>\n",
       "      <td>1.0</td>\n",
       "      <td>1</td>\n",
       "      <td>0</td>\n",
       "      <td>0</td>\n",
       "      <td>0</td>\n",
       "      <td>0</td>\n",
       "      <td>0</td>\n",
       "      <td>0</td>\n",
       "      <td>...</td>\n",
       "      <td>0</td>\n",
       "      <td>0</td>\n",
       "      <td>0</td>\n",
       "      <td>0</td>\n",
       "      <td>0</td>\n",
       "      <td>0</td>\n",
       "      <td>0</td>\n",
       "      <td>0</td>\n",
       "      <td>0</td>\n",
       "      <td>0</td>\n",
       "    </tr>\n",
       "    <tr>\n",
       "      <th>2</th>\n",
       "      <td>1.0</td>\n",
       "      <td>400.0</td>\n",
       "      <td>1.0</td>\n",
       "      <td>1</td>\n",
       "      <td>0</td>\n",
       "      <td>0</td>\n",
       "      <td>0</td>\n",
       "      <td>0</td>\n",
       "      <td>0</td>\n",
       "      <td>0</td>\n",
       "      <td>...</td>\n",
       "      <td>0</td>\n",
       "      <td>0</td>\n",
       "      <td>0</td>\n",
       "      <td>0</td>\n",
       "      <td>0</td>\n",
       "      <td>0</td>\n",
       "      <td>0</td>\n",
       "      <td>0</td>\n",
       "      <td>0</td>\n",
       "      <td>0</td>\n",
       "    </tr>\n",
       "  </tbody>\n",
       "</table>\n",
       "<p>3 rows × 1231 columns</p>\n",
       "</div>"
      ],
      "text/plain": [
       "   bedroom   area  bathroom  25th B Main Rd  5th Phase  AS Rao Nagar  \\\n",
       "0      1.0  400.0       1.0               1          0             0   \n",
       "1      1.0  600.0       1.0               1          0             0   \n",
       "2      1.0  400.0       1.0               1          0             0   \n",
       "\n",
       "   Abbigere  Abids  Abul Fazal Enclave Jamia Nagar  Adambakam  ...  raidurgam  \\\n",
       "0         0      0                               0          0  ...          0   \n",
       "1         0      0                               0          0  ...          0   \n",
       "2         0      0                               0          0  ...          0   \n",
       "\n",
       "   rohini sector 5  sahakara nagar  salt lake sec iii  south dum dum  \\\n",
       "0                0               0                  0              0   \n",
       "1                0               0                  0              0   \n",
       "2                0               0                  0              0   \n",
       "\n",
       "   tambaram west  thakur village kandivali east  vikaspuri  vile parle west  \\\n",
       "0              0                              0          0                0   \n",
       "1              0                              0          0                0   \n",
       "2              0                              0          0                0   \n",
       "\n",
       "   worli sea Fase  \n",
       "0               0  \n",
       "1               0  \n",
       "2               0  \n",
       "\n",
       "[3 rows x 1231 columns]"
      ]
     },
     "execution_count": 124,
     "metadata": {},
     "output_type": "execute_result"
    }
   ],
   "source": [
    "X = df12.drop(['price'],axis='columns')\n",
    "X.head(3)"
   ]
  },
  {
   "cell_type": "code",
   "execution_count": 125,
   "id": "a77ecbf7",
   "metadata": {},
   "outputs": [
    {
     "data": {
      "text/plain": [
       "(92556, 1231)"
      ]
     },
     "execution_count": 125,
     "metadata": {},
     "output_type": "execute_result"
    }
   ],
   "source": [
    "X.shape"
   ]
  },
  {
   "cell_type": "code",
   "execution_count": 126,
   "id": "6003f611",
   "metadata": {},
   "outputs": [
    {
     "data": {
      "text/plain": [
       "0    18500.0\n",
       "1    28500.0\n",
       "2    19500.0\n",
       "Name: price, dtype: float64"
      ]
     },
     "execution_count": 126,
     "metadata": {},
     "output_type": "execute_result"
    }
   ],
   "source": [
    "y = df12['price']\n",
    "y.head(3)"
   ]
  },
  {
   "cell_type": "code",
   "execution_count": 127,
   "id": "c0eed3f2",
   "metadata": {},
   "outputs": [
    {
     "data": {
      "text/plain": [
       "92556"
      ]
     },
     "execution_count": 127,
     "metadata": {},
     "output_type": "execute_result"
    }
   ],
   "source": [
    "len(y)"
   ]
  },
  {
   "cell_type": "code",
   "execution_count": 128,
   "id": "8bef51a1",
   "metadata": {},
   "outputs": [
    {
     "data": {
      "text/html": [
       "<style>#sk-container-id-4 {color: black;background-color: white;}#sk-container-id-4 pre{padding: 0;}#sk-container-id-4 div.sk-toggleable {background-color: white;}#sk-container-id-4 label.sk-toggleable__label {cursor: pointer;display: block;width: 100%;margin-bottom: 0;padding: 0.3em;box-sizing: border-box;text-align: center;}#sk-container-id-4 label.sk-toggleable__label-arrow:before {content: \"▸\";float: left;margin-right: 0.25em;color: #696969;}#sk-container-id-4 label.sk-toggleable__label-arrow:hover:before {color: black;}#sk-container-id-4 div.sk-estimator:hover label.sk-toggleable__label-arrow:before {color: black;}#sk-container-id-4 div.sk-toggleable__content {max-height: 0;max-width: 0;overflow: hidden;text-align: left;background-color: #f0f8ff;}#sk-container-id-4 div.sk-toggleable__content pre {margin: 0.2em;color: black;border-radius: 0.25em;background-color: #f0f8ff;}#sk-container-id-4 input.sk-toggleable__control:checked~div.sk-toggleable__content {max-height: 200px;max-width: 100%;overflow: auto;}#sk-container-id-4 input.sk-toggleable__control:checked~label.sk-toggleable__label-arrow:before {content: \"▾\";}#sk-container-id-4 div.sk-estimator input.sk-toggleable__control:checked~label.sk-toggleable__label {background-color: #d4ebff;}#sk-container-id-4 div.sk-label input.sk-toggleable__control:checked~label.sk-toggleable__label {background-color: #d4ebff;}#sk-container-id-4 input.sk-hidden--visually {border: 0;clip: rect(1px 1px 1px 1px);clip: rect(1px, 1px, 1px, 1px);height: 1px;margin: -1px;overflow: hidden;padding: 0;position: absolute;width: 1px;}#sk-container-id-4 div.sk-estimator {font-family: monospace;background-color: #f0f8ff;border: 1px dotted black;border-radius: 0.25em;box-sizing: border-box;margin-bottom: 0.5em;}#sk-container-id-4 div.sk-estimator:hover {background-color: #d4ebff;}#sk-container-id-4 div.sk-parallel-item::after {content: \"\";width: 100%;border-bottom: 1px solid gray;flex-grow: 1;}#sk-container-id-4 div.sk-label:hover label.sk-toggleable__label {background-color: #d4ebff;}#sk-container-id-4 div.sk-serial::before {content: \"\";position: absolute;border-left: 1px solid gray;box-sizing: border-box;top: 0;bottom: 0;left: 50%;z-index: 0;}#sk-container-id-4 div.sk-serial {display: flex;flex-direction: column;align-items: center;background-color: white;padding-right: 0.2em;padding-left: 0.2em;position: relative;}#sk-container-id-4 div.sk-item {position: relative;z-index: 1;}#sk-container-id-4 div.sk-parallel {display: flex;align-items: stretch;justify-content: center;background-color: white;position: relative;}#sk-container-id-4 div.sk-item::before, #sk-container-id-4 div.sk-parallel-item::before {content: \"\";position: absolute;border-left: 1px solid gray;box-sizing: border-box;top: 0;bottom: 0;left: 50%;z-index: -1;}#sk-container-id-4 div.sk-parallel-item {display: flex;flex-direction: column;z-index: 1;position: relative;background-color: white;}#sk-container-id-4 div.sk-parallel-item:first-child::after {align-self: flex-end;width: 50%;}#sk-container-id-4 div.sk-parallel-item:last-child::after {align-self: flex-start;width: 50%;}#sk-container-id-4 div.sk-parallel-item:only-child::after {width: 0;}#sk-container-id-4 div.sk-dashed-wrapped {border: 1px dashed gray;margin: 0 0.4em 0.5em 0.4em;box-sizing: border-box;padding-bottom: 0.4em;background-color: white;}#sk-container-id-4 div.sk-label label {font-family: monospace;font-weight: bold;display: inline-block;line-height: 1.2em;}#sk-container-id-4 div.sk-label-container {text-align: center;}#sk-container-id-4 div.sk-container {/* jupyter's `normalize.less` sets `[hidden] { display: none; }` but bootstrap.min.css set `[hidden] { display: none !important; }` so we also need the `!important` here to be able to override the default hidden behavior on the sphinx rendered scikit-learn.org. See: https://github.com/scikit-learn/scikit-learn/issues/21755 */display: inline-block !important;position: relative;}#sk-container-id-4 div.sk-text-repr-fallback {display: none;}</style><div id=\"sk-container-id-4\" class=\"sk-top-container\"><div class=\"sk-text-repr-fallback\"><pre>StandardScaler()</pre><b>In a Jupyter environment, please rerun this cell to show the HTML representation or trust the notebook. <br />On GitHub, the HTML representation is unable to render, please try loading this page with nbviewer.org.</b></div><div class=\"sk-container\" hidden><div class=\"sk-item\"><div class=\"sk-estimator sk-toggleable\"><input class=\"sk-toggleable__control sk-hidden--visually\" id=\"sk-estimator-id-4\" type=\"checkbox\" checked><label for=\"sk-estimator-id-4\" class=\"sk-toggleable__label sk-toggleable__label-arrow\">StandardScaler</label><div class=\"sk-toggleable__content\"><pre>StandardScaler()</pre></div></div></div></div></div>"
      ],
      "text/plain": [
       "StandardScaler()"
      ]
     },
     "execution_count": 128,
     "metadata": {},
     "output_type": "execute_result"
    }
   ],
   "source": [
    "#Create a model with 20% of the data as the testing dataset\n",
    "\n",
    "from sklearn.model_selection import train_test_split\n",
    "from sklearn.preprocessing import StandardScaler\n",
    "X_train, X_test, y_train, y_test = train_test_split(X.values, y, test_size=0.2, random_state=100)\n",
    "scalar=StandardScaler()\n",
    "scalar.fit(X_train)"
   ]
  },
  {
   "cell_type": "code",
   "execution_count": 129,
   "id": "da284493",
   "metadata": {},
   "outputs": [
    {
     "data": {
      "text/plain": [
       "0.9008776589397397"
      ]
     },
     "execution_count": 129,
     "metadata": {},
     "output_type": "execute_result"
    }
   ],
   "source": [
    "from sklearn.linear_model import LinearRegression\n",
    "model = LinearRegression()\n",
    "model.fit(X_train, y_train)\n",
    "model.score(X_test, y_test)"
   ]
  },
  {
   "cell_type": "code",
   "execution_count": 130,
   "id": "e7750f15",
   "metadata": {},
   "outputs": [
    {
     "data": {
      "text/plain": [
       "array([0.89055876, 0.90222733, 0.89579014, 0.89890804, 0.90517203])"
      ]
     },
     "execution_count": 130,
     "metadata": {},
     "output_type": "execute_result"
    }
   ],
   "source": [
    "#Calculating accuracy scores for five iterartisons\n",
    "\n",
    "from sklearn.model_selection import ShuffleSplit\n",
    "from sklearn.model_selection import cross_val_score\n",
    "\n",
    "cv = ShuffleSplit(n_splits=5, test_size=0.2, random_state=0)\n",
    "\n",
    "cross_val_score(LinearRegression(), X, y, cv=cv)"
   ]
  },
  {
   "cell_type": "code",
   "execution_count": 131,
   "id": "3aa2f39a",
   "metadata": {},
   "outputs": [],
   "source": [
    "#On the above 5 iterations on every occasion the accuracy is more than 89%"
   ]
  },
  {
   "cell_type": "code",
   "execution_count": 145,
   "id": "e814e91f",
   "metadata": {},
   "outputs": [],
   "source": [
    "#A function to predict the price by passing the locality, area, no.of bedrooms\n",
    "#and no.of bathrooms as the parameters\n",
    "\n",
    "import math\n",
    "def predict_price(locality, area, bathroom, bedroom):    \n",
    "    loc_index = np.where(X.columns==locality)[0][0]\n",
    "\n",
    "    x = np.zeros(len(X.columns))\n",
    "    x[0] = area\n",
    "    x[1] = bathroom\n",
    "    x[2] = bedroom\n",
    "    if loc_index >= 0:\n",
    "        x[loc_index] = 1\n",
    "        \n",
    "    return (lr_clf.predict([x])[0])"
   ]
  },
  {
   "cell_type": "code",
   "execution_count": 147,
   "id": "4bb01ed0",
   "metadata": {},
   "outputs": [
    {
     "data": {
      "text/plain": [
       "-11518468.668898607"
      ]
     },
     "execution_count": 147,
     "metadata": {},
     "output_type": "execute_result"
    }
   ],
   "source": [
    "predict_price('worli sea Fase', 1500, 2, 2)"
   ]
  },
  {
   "cell_type": "markdown",
   "id": "435c48d5",
   "metadata": {},
   "source": [
    "# Export the model to a pickle file"
   ]
  },
  {
   "cell_type": "markdown",
   "id": "bc0eb864",
   "metadata": {},
   "source": [
    "# Use K Fold cross validation to measure accuracy of the LinearRegression model"
   ]
  },
  {
   "cell_type": "code",
   "execution_count": 73,
   "id": "8a22608c",
   "metadata": {},
   "outputs": [],
   "source": [
    "import pickle\n",
    "with open('rent_predict.pickle','wb') as f:\n",
    "    pickle.dump(lr_clf,f)"
   ]
  },
  {
   "cell_type": "code",
   "execution_count": 74,
   "id": "19d1e323",
   "metadata": {},
   "outputs": [],
   "source": [
    "import json\n",
    "columns = {\n",
    "    'data_columns' : [col.lower() for col in X.columns]\n",
    "}\n",
    "with open(\"columns.json\",\"w\") as f:\n",
    "    f.write(json.dumps(columns))"
   ]
  }
 ],
 "metadata": {
  "kernelspec": {
   "display_name": "Python 3 (ipykernel)",
   "language": "python",
   "name": "python3"
  },
  "language_info": {
   "codemirror_mode": {
    "name": "ipython",
    "version": 3
   },
   "file_extension": ".py",
   "mimetype": "text/x-python",
   "name": "python",
   "nbconvert_exporter": "python",
   "pygments_lexer": "ipython3",
   "version": "3.9.0"
  }
 },
 "nbformat": 4,
 "nbformat_minor": 5
}
